{
 "cells": [
  {
   "cell_type": "code",
   "execution_count": 9,
   "metadata": {},
   "outputs": [],
   "source": [
    "import numpy as np\n",
    "import pandas as pd\n",
    "import plotly.graph_objects as go\n",
    "import plotly.graph_objects as go\n",
    "import plotly.express as px\n",
    "import os\n",
    "import plotly.io as plt_io\n",
    "# Enable this to export as iframe\n",
    "# plt_io.renderers.default = 'iframe'"
   ]
  },
  {
   "cell_type": "code",
   "execution_count": 10,
   "metadata": {
    "tags": []
   },
   "outputs": [],
   "source": [
    "# Import and clean the excel file\n",
    "cleaned_table = pd.read_excel(\"./INPUT/vsoc_report.xlsx\")\n",
    "fields_dict = {'ISS Ticket ID':'T#',\n",
    "                          'Status': 'STATUS',\n",
    "                          'Severity Code': 'SEVERITY',\n",
    "                          'Create Date': 'TIMESTAMP',\n",
    "                          'Resolution': 'RESOLUTION',\n",
    "                          'Comments' : 'COMMENT'}\n",
    "\n",
    "cleaned_table = cleaned_table[fields_dict]\n",
    "cleaned_table.rename(columns= fields_dict, inplace=True)\n",
    "severity_mapper = {'SEV1':'CRITICAL', 'SEV2': 'HIGH', 'SEV3': 'MEDIUM', 'SEV4': 'LOW'}\n",
    "cleaned_table = cleaned_table.replace({'SEVERITY': severity_mapper})\n",
    "cleaned_table['TIMESTAMP'] = pd.to_datetime(cleaned_table['TIMESTAMP'])\n",
    "cleaned_table['TIMESTAMP'] = cleaned_table['TIMESTAMP'].dt.tz_localize('GMT').dt.tz_convert('Asia/Riyadh')\n",
    "cleaned_table.start_timestamp = cleaned_table['TIMESTAMP'].min().strftime('%d/%m/%Y|%H:%M:%S')\n",
    "cleaned_table.end_timestamp = cleaned_table['TIMESTAMP'].max().strftime('%d/%m/%Y|%H:%M:%S')\n",
    "cleaned_table.no_days = len(cleaned_table['TIMESTAMP'].dt.normalize().unique())\n",
    "cleaned_table.to_csv('./OUTPUT/CLEANED_TABLE.csv', sep=',')"
   ]
  },
  {
   "cell_type": "code",
   "execution_count": 11,
   "metadata": {},
   "outputs": [],
   "source": [
    "# Generate basic bar plot for the main features of si-report\n",
    "required_fields = ['STATUS', 'SEVERITY', 'RESOLUTION']\n",
    "for required_field in required_fields:\n",
    "    cleaned_table_copy = cleaned_table.copy()\n",
    "    series = pd.value_counts(cleaned_table_copy[required_field])\n",
    "    mask = (series/series.sum() * 100).lt(1.0)\n",
    "    cleaned_table_copy[required_field] = np.where(cleaned_table_copy[required_field].isin(series[mask].index),'OTHERS ≤ 1.0%'.format(required_field),cleaned_table_copy[required_field])\n",
    "    required_field_count = cleaned_table_copy[required_field].value_counts()    \n",
    "    required_field_count = required_field_count.rename_axis(required_field).reset_index(name='{}_COUNT'.format(required_field))\n",
    "    required_field_count = required_field_count.reset_index(drop=True)\n",
    "    required_field_count.index.rename('NO.', inplace=True)\n",
    "    required_field_count.index+=1\n",
    "    required_field_count['{}_PCT'.format(required_field)] = required_field_count['{}_COUNT'.format(required_field)] / required_field_count['{}_COUNT'.format(required_field)].sum()\n",
    "    required_field_count.to_csv('./OUTPUT/{}.csv'.format(required_field), sep=',')\n",
    "    my_layout = go.Layout(title_text='Distribution of Common Event<br>From {} to {}<br>sorted by {} '.format(\n",
    "        cleaned_table.start_timestamp, cleaned_table.end_timestamp,required_field), font=dict(color='#7f7f7f',size=10))\n",
    "    \n",
    "    my_data = go.Bar(x=required_field_count['{}_COUNT'.format(required_field)], y=required_field_count[required_field], orientation='h')\n",
    "    \n",
    "    fig = go.Figure(data=my_data, layout=my_layout)\n",
    "    # tune the font_size to your needs\n",
    "    fig.update_layout(font_size=10,title_x=0.5)\n",
    "    fig.update_traces(\n",
    "        marker_color='rgb(231,198,91)',\n",
    "        marker_line_color='black',\n",
    "        marker_line_width=1.0,\n",
    "        textposition='outside',\n",
    "        opacity=1.0)\n",
    "    fig.write_image(\"./OUTPUT/{}_COUNT.pdf\".format(required_field))\n",
    "    # fig.show()"
   ]
  },
  {
   "cell_type": "code",
   "execution_count": 12,
   "metadata": {},
   "outputs": [],
   "source": [
    "# Generate a summary table of the main features\n",
    "summary_table = cleaned_table.groupby(['STATUS', 'SEVERITY', 'RESOLUTION']).size().unstack(fill_value=0)\n",
    "summary_table.to_csv('./OUTPUT/SUMMARY_TABLE.csv', sep=',')"
   ]
  },
  {
   "cell_type": "code",
   "execution_count": 13,
   "metadata": {},
   "outputs": [],
   "source": [
    "tickets_count = cleaned_table['T#'].value_counts()\n",
    "tickets_count = tickets_count.rename_axis('T#').reset_index(name='T#_COUNT')\n",
    "tickets_count = tickets_count.reset_index(drop=True)\n",
    "tickets_count.index.rename('NO.', inplace=True)\n",
    "tickets_count.index+=1\n",
    "tickets_count['T#_PCT'] = tickets_count['T#_COUNT'] / tickets_count['T#_COUNT'].sum()\n",
    "s = pd.to_datetime(cleaned_table['TIMESTAMP'])\n",
    "tickets_count = s.groupby(s.dt.floor('d')).size().reset_index(name='COUNT')\n",
    "# Plot ----------------------------------------------------------------------------------------------\n",
    "my_layout = go.Layout(\n",
    "    title='Global Font',\n",
    "    font=dict(color='#7f7f7f', size=10),\n",
    "    showlegend=False)\n",
    "my_data = go.Scatter(\n",
    "    x=tickets_count['TIMESTAMP'],\n",
    "    y=tickets_count['COUNT'],\n",
    "    mode='lines+markers+text')\n",
    "fig = go.Figure(data=my_data, layout=my_layout)\n",
    "\n",
    "fig.update_layout(shapes=[\n",
    "    # Line Horizontal\n",
    "    go.layout.Shape(\n",
    "        type=\"line\",\n",
    "        x0=tickets_count['TIMESTAMP'].min(),\n",
    "        y0=tickets_count['COUNT'].mean(),\n",
    "        x1=tickets_count['TIMESTAMP'].max(),\n",
    "        y1=tickets_count['COUNT'].mean(),\n",
    "        line=dict(\n",
    "            color=\"red\",\n",
    "            width=2,\n",
    "            dash=\"longdash\",\n",
    "        ),\n",
    "    ),\n",
    "])\n",
    "\n",
    "fig.add_trace(\n",
    "    go.Scatter(\n",
    "        x=[\n",
    "            tickets_count['TIMESTAMP'].max() -\n",
    "            pd.Timedelta(days=cleaned_table\n",
    "        .no_days) / 2\n",
    "        ],\n",
    "        y=[tickets_count['COUNT'].mean()],\n",
    "        mode=\"markers+text\",\n",
    "        name=\"Markers and Text\",\n",
    "        hoverinfo='skip',\n",
    "        textposition=\"top right\"))\n",
    "\n",
    "fig.update_traces(\n",
    "    marker_color='rgb(231,198,91)',\n",
    "    marker_line_color='black',\n",
    "    marker_line_width=1,\n",
    "    opacity=1.0)\n",
    "fig.update_layout(\n",
    "    title_text='VSOC tickets trendline grouped by the day<br>From {} to {}. Red line '\n",
    "               'represents<br>the average no. VSOC tickets ({} '\n",
    "               'VSOC tickets per day)'.format(cleaned_table\n",
    "            .start_timestamp, cleaned_table\n",
    "            .end_timestamp,\n",
    "                                             int(tickets_count['COUNT'].mean())),font_size=10,title_x=0.5)\n",
    "\n",
    "fig.update_traces(\n",
    "marker_color='rgb(231,198,91)',\n",
    "marker_line_color='black',\n",
    "marker_line_width=1.0,\n",
    "opacity=1.0)\n",
    "# tune the font_size to your needs\n",
    "fig.update_layout(font_size=12)\n",
    "# fig.show()\n",
    "fig.write_image(\"./OUTPUT/TRENDLINE.pdf\")"
   ]
  },
  {
   "cell_type": "code",
   "execution_count": 14,
   "metadata": {},
   "outputs": [
    {
     "data": {
      "application/vnd.plotly.v1+json": {
       "config": {
        "plotlyServerURL": "https://plot.ly"
       },
       "data": [
        {
         "colorscale": [
          [
           0,
           "#440154"
          ],
          [
           0.1111111111111111,
           "#482878"
          ],
          [
           0.2222222222222222,
           "#3e4989"
          ],
          [
           0.3333333333333333,
           "#31688e"
          ],
          [
           0.4444444444444444,
           "#26828e"
          ],
          [
           0.5555555555555556,
           "#1f9e89"
          ],
          [
           0.6666666666666666,
           "#35b779"
          ],
          [
           0.7777777777777778,
           "#6ece58"
          ],
          [
           0.8888888888888888,
           "#b5de2b"
          ],
          [
           1,
           "#fde725"
          ]
         ],
         "type": "heatmap",
         "x": [
          "Monday",
          "Monday",
          "Monday",
          "Monday",
          "Monday",
          "Monday",
          "Tuesday",
          "Tuesday",
          "Tuesday",
          "Tuesday",
          "Tuesday",
          "Tuesday",
          "Wednesday",
          "Wednesday",
          "Wednesday",
          "Wednesday",
          "Wednesday",
          "Wednesday",
          "Wednesday",
          "Wednesday",
          "Wednesday",
          "Thursday",
          "Thursday",
          "Thursday",
          "Thursday",
          "Thursday",
          "Thursday",
          "Friday",
          "Friday",
          "Saturday",
          "Saturday",
          "Saturday",
          "Saturday",
          "Saturday",
          "Saturday",
          "Sunday",
          "Sunday",
          "Sunday",
          "Sunday",
          "Sunday",
          "Sunday",
          "Sunday",
          "Sunday",
          "Sunday",
          "Sunday",
          "Sunday"
         ],
         "y": [
          3,
          10,
          15,
          18,
          22,
          23,
          6,
          11,
          13,
          14,
          16,
          21,
          3,
          11,
          13,
          14,
          15,
          16,
          17,
          19,
          22,
          11,
          12,
          13,
          14,
          17,
          22,
          1,
          11,
          3,
          10,
          11,
          18,
          19,
          23,
          7,
          8,
          11,
          12,
          14,
          15,
          16,
          18,
          19,
          20,
          22
         ],
         "z": [
          1,
          1,
          2,
          1,
          2,
          2,
          1,
          1,
          1,
          1,
          1,
          1,
          1,
          2,
          1,
          4,
          1,
          3,
          2,
          3,
          1,
          3,
          1,
          2,
          1,
          7,
          1,
          1,
          1,
          1,
          1,
          2,
          1,
          1,
          1,
          1,
          1,
          1,
          3,
          1,
          3,
          1,
          1,
          2,
          1,
          3
         ]
        }
       ],
       "layout": {
        "template": {
         "data": {
          "bar": [
           {
            "error_x": {
             "color": "#2a3f5f"
            },
            "error_y": {
             "color": "#2a3f5f"
            },
            "marker": {
             "line": {
              "color": "#E5ECF6",
              "width": 0.5
             },
             "pattern": {
              "fillmode": "overlay",
              "size": 10,
              "solidity": 0.2
             }
            },
            "type": "bar"
           }
          ],
          "barpolar": [
           {
            "marker": {
             "line": {
              "color": "#E5ECF6",
              "width": 0.5
             },
             "pattern": {
              "fillmode": "overlay",
              "size": 10,
              "solidity": 0.2
             }
            },
            "type": "barpolar"
           }
          ],
          "carpet": [
           {
            "aaxis": {
             "endlinecolor": "#2a3f5f",
             "gridcolor": "white",
             "linecolor": "white",
             "minorgridcolor": "white",
             "startlinecolor": "#2a3f5f"
            },
            "baxis": {
             "endlinecolor": "#2a3f5f",
             "gridcolor": "white",
             "linecolor": "white",
             "minorgridcolor": "white",
             "startlinecolor": "#2a3f5f"
            },
            "type": "carpet"
           }
          ],
          "choropleth": [
           {
            "colorbar": {
             "outlinewidth": 0,
             "ticks": ""
            },
            "type": "choropleth"
           }
          ],
          "contour": [
           {
            "colorbar": {
             "outlinewidth": 0,
             "ticks": ""
            },
            "colorscale": [
             [
              0,
              "#0d0887"
             ],
             [
              0.1111111111111111,
              "#46039f"
             ],
             [
              0.2222222222222222,
              "#7201a8"
             ],
             [
              0.3333333333333333,
              "#9c179e"
             ],
             [
              0.4444444444444444,
              "#bd3786"
             ],
             [
              0.5555555555555556,
              "#d8576b"
             ],
             [
              0.6666666666666666,
              "#ed7953"
             ],
             [
              0.7777777777777778,
              "#fb9f3a"
             ],
             [
              0.8888888888888888,
              "#fdca26"
             ],
             [
              1,
              "#f0f921"
             ]
            ],
            "type": "contour"
           }
          ],
          "contourcarpet": [
           {
            "colorbar": {
             "outlinewidth": 0,
             "ticks": ""
            },
            "type": "contourcarpet"
           }
          ],
          "heatmap": [
           {
            "colorbar": {
             "outlinewidth": 0,
             "ticks": ""
            },
            "colorscale": [
             [
              0,
              "#0d0887"
             ],
             [
              0.1111111111111111,
              "#46039f"
             ],
             [
              0.2222222222222222,
              "#7201a8"
             ],
             [
              0.3333333333333333,
              "#9c179e"
             ],
             [
              0.4444444444444444,
              "#bd3786"
             ],
             [
              0.5555555555555556,
              "#d8576b"
             ],
             [
              0.6666666666666666,
              "#ed7953"
             ],
             [
              0.7777777777777778,
              "#fb9f3a"
             ],
             [
              0.8888888888888888,
              "#fdca26"
             ],
             [
              1,
              "#f0f921"
             ]
            ],
            "type": "heatmap"
           }
          ],
          "heatmapgl": [
           {
            "colorbar": {
             "outlinewidth": 0,
             "ticks": ""
            },
            "colorscale": [
             [
              0,
              "#0d0887"
             ],
             [
              0.1111111111111111,
              "#46039f"
             ],
             [
              0.2222222222222222,
              "#7201a8"
             ],
             [
              0.3333333333333333,
              "#9c179e"
             ],
             [
              0.4444444444444444,
              "#bd3786"
             ],
             [
              0.5555555555555556,
              "#d8576b"
             ],
             [
              0.6666666666666666,
              "#ed7953"
             ],
             [
              0.7777777777777778,
              "#fb9f3a"
             ],
             [
              0.8888888888888888,
              "#fdca26"
             ],
             [
              1,
              "#f0f921"
             ]
            ],
            "type": "heatmapgl"
           }
          ],
          "histogram": [
           {
            "marker": {
             "pattern": {
              "fillmode": "overlay",
              "size": 10,
              "solidity": 0.2
             }
            },
            "type": "histogram"
           }
          ],
          "histogram2d": [
           {
            "colorbar": {
             "outlinewidth": 0,
             "ticks": ""
            },
            "colorscale": [
             [
              0,
              "#0d0887"
             ],
             [
              0.1111111111111111,
              "#46039f"
             ],
             [
              0.2222222222222222,
              "#7201a8"
             ],
             [
              0.3333333333333333,
              "#9c179e"
             ],
             [
              0.4444444444444444,
              "#bd3786"
             ],
             [
              0.5555555555555556,
              "#d8576b"
             ],
             [
              0.6666666666666666,
              "#ed7953"
             ],
             [
              0.7777777777777778,
              "#fb9f3a"
             ],
             [
              0.8888888888888888,
              "#fdca26"
             ],
             [
              1,
              "#f0f921"
             ]
            ],
            "type": "histogram2d"
           }
          ],
          "histogram2dcontour": [
           {
            "colorbar": {
             "outlinewidth": 0,
             "ticks": ""
            },
            "colorscale": [
             [
              0,
              "#0d0887"
             ],
             [
              0.1111111111111111,
              "#46039f"
             ],
             [
              0.2222222222222222,
              "#7201a8"
             ],
             [
              0.3333333333333333,
              "#9c179e"
             ],
             [
              0.4444444444444444,
              "#bd3786"
             ],
             [
              0.5555555555555556,
              "#d8576b"
             ],
             [
              0.6666666666666666,
              "#ed7953"
             ],
             [
              0.7777777777777778,
              "#fb9f3a"
             ],
             [
              0.8888888888888888,
              "#fdca26"
             ],
             [
              1,
              "#f0f921"
             ]
            ],
            "type": "histogram2dcontour"
           }
          ],
          "mesh3d": [
           {
            "colorbar": {
             "outlinewidth": 0,
             "ticks": ""
            },
            "type": "mesh3d"
           }
          ],
          "parcoords": [
           {
            "line": {
             "colorbar": {
              "outlinewidth": 0,
              "ticks": ""
             }
            },
            "type": "parcoords"
           }
          ],
          "pie": [
           {
            "automargin": true,
            "type": "pie"
           }
          ],
          "scatter": [
           {
            "marker": {
             "colorbar": {
              "outlinewidth": 0,
              "ticks": ""
             }
            },
            "type": "scatter"
           }
          ],
          "scatter3d": [
           {
            "line": {
             "colorbar": {
              "outlinewidth": 0,
              "ticks": ""
             }
            },
            "marker": {
             "colorbar": {
              "outlinewidth": 0,
              "ticks": ""
             }
            },
            "type": "scatter3d"
           }
          ],
          "scattercarpet": [
           {
            "marker": {
             "colorbar": {
              "outlinewidth": 0,
              "ticks": ""
             }
            },
            "type": "scattercarpet"
           }
          ],
          "scattergeo": [
           {
            "marker": {
             "colorbar": {
              "outlinewidth": 0,
              "ticks": ""
             }
            },
            "type": "scattergeo"
           }
          ],
          "scattergl": [
           {
            "marker": {
             "colorbar": {
              "outlinewidth": 0,
              "ticks": ""
             }
            },
            "type": "scattergl"
           }
          ],
          "scattermapbox": [
           {
            "marker": {
             "colorbar": {
              "outlinewidth": 0,
              "ticks": ""
             }
            },
            "type": "scattermapbox"
           }
          ],
          "scatterpolar": [
           {
            "marker": {
             "colorbar": {
              "outlinewidth": 0,
              "ticks": ""
             }
            },
            "type": "scatterpolar"
           }
          ],
          "scatterpolargl": [
           {
            "marker": {
             "colorbar": {
              "outlinewidth": 0,
              "ticks": ""
             }
            },
            "type": "scatterpolargl"
           }
          ],
          "scatterternary": [
           {
            "marker": {
             "colorbar": {
              "outlinewidth": 0,
              "ticks": ""
             }
            },
            "type": "scatterternary"
           }
          ],
          "surface": [
           {
            "colorbar": {
             "outlinewidth": 0,
             "ticks": ""
            },
            "colorscale": [
             [
              0,
              "#0d0887"
             ],
             [
              0.1111111111111111,
              "#46039f"
             ],
             [
              0.2222222222222222,
              "#7201a8"
             ],
             [
              0.3333333333333333,
              "#9c179e"
             ],
             [
              0.4444444444444444,
              "#bd3786"
             ],
             [
              0.5555555555555556,
              "#d8576b"
             ],
             [
              0.6666666666666666,
              "#ed7953"
             ],
             [
              0.7777777777777778,
              "#fb9f3a"
             ],
             [
              0.8888888888888888,
              "#fdca26"
             ],
             [
              1,
              "#f0f921"
             ]
            ],
            "type": "surface"
           }
          ],
          "table": [
           {
            "cells": {
             "fill": {
              "color": "#EBF0F8"
             },
             "line": {
              "color": "white"
             }
            },
            "header": {
             "fill": {
              "color": "#C8D4E3"
             },
             "line": {
              "color": "white"
             }
            },
            "type": "table"
           }
          ]
         },
         "layout": {
          "annotationdefaults": {
           "arrowcolor": "#2a3f5f",
           "arrowhead": 0,
           "arrowwidth": 1
          },
          "autotypenumbers": "strict",
          "coloraxis": {
           "colorbar": {
            "outlinewidth": 0,
            "ticks": ""
           }
          },
          "colorscale": {
           "diverging": [
            [
             0,
             "#8e0152"
            ],
            [
             0.1,
             "#c51b7d"
            ],
            [
             0.2,
             "#de77ae"
            ],
            [
             0.3,
             "#f1b6da"
            ],
            [
             0.4,
             "#fde0ef"
            ],
            [
             0.5,
             "#f7f7f7"
            ],
            [
             0.6,
             "#e6f5d0"
            ],
            [
             0.7,
             "#b8e186"
            ],
            [
             0.8,
             "#7fbc41"
            ],
            [
             0.9,
             "#4d9221"
            ],
            [
             1,
             "#276419"
            ]
           ],
           "sequential": [
            [
             0,
             "#0d0887"
            ],
            [
             0.1111111111111111,
             "#46039f"
            ],
            [
             0.2222222222222222,
             "#7201a8"
            ],
            [
             0.3333333333333333,
             "#9c179e"
            ],
            [
             0.4444444444444444,
             "#bd3786"
            ],
            [
             0.5555555555555556,
             "#d8576b"
            ],
            [
             0.6666666666666666,
             "#ed7953"
            ],
            [
             0.7777777777777778,
             "#fb9f3a"
            ],
            [
             0.8888888888888888,
             "#fdca26"
            ],
            [
             1,
             "#f0f921"
            ]
           ],
           "sequentialminus": [
            [
             0,
             "#0d0887"
            ],
            [
             0.1111111111111111,
             "#46039f"
            ],
            [
             0.2222222222222222,
             "#7201a8"
            ],
            [
             0.3333333333333333,
             "#9c179e"
            ],
            [
             0.4444444444444444,
             "#bd3786"
            ],
            [
             0.5555555555555556,
             "#d8576b"
            ],
            [
             0.6666666666666666,
             "#ed7953"
            ],
            [
             0.7777777777777778,
             "#fb9f3a"
            ],
            [
             0.8888888888888888,
             "#fdca26"
            ],
            [
             1,
             "#f0f921"
            ]
           ]
          },
          "colorway": [
           "#636efa",
           "#EF553B",
           "#00cc96",
           "#ab63fa",
           "#FFA15A",
           "#19d3f3",
           "#FF6692",
           "#B6E880",
           "#FF97FF",
           "#FECB52"
          ],
          "font": {
           "color": "#2a3f5f"
          },
          "geo": {
           "bgcolor": "white",
           "lakecolor": "white",
           "landcolor": "#E5ECF6",
           "showlakes": true,
           "showland": true,
           "subunitcolor": "white"
          },
          "hoverlabel": {
           "align": "left"
          },
          "hovermode": "closest",
          "mapbox": {
           "style": "light"
          },
          "paper_bgcolor": "white",
          "plot_bgcolor": "#E5ECF6",
          "polar": {
           "angularaxis": {
            "gridcolor": "white",
            "linecolor": "white",
            "ticks": ""
           },
           "bgcolor": "#E5ECF6",
           "radialaxis": {
            "gridcolor": "white",
            "linecolor": "white",
            "ticks": ""
           }
          },
          "scene": {
           "xaxis": {
            "backgroundcolor": "#E5ECF6",
            "gridcolor": "white",
            "gridwidth": 2,
            "linecolor": "white",
            "showbackground": true,
            "ticks": "",
            "zerolinecolor": "white"
           },
           "yaxis": {
            "backgroundcolor": "#E5ECF6",
            "gridcolor": "white",
            "gridwidth": 2,
            "linecolor": "white",
            "showbackground": true,
            "ticks": "",
            "zerolinecolor": "white"
           },
           "zaxis": {
            "backgroundcolor": "#E5ECF6",
            "gridcolor": "white",
            "gridwidth": 2,
            "linecolor": "white",
            "showbackground": true,
            "ticks": "",
            "zerolinecolor": "white"
           }
          },
          "shapedefaults": {
           "line": {
            "color": "#2a3f5f"
           }
          },
          "ternary": {
           "aaxis": {
            "gridcolor": "white",
            "linecolor": "white",
            "ticks": ""
           },
           "baxis": {
            "gridcolor": "white",
            "linecolor": "white",
            "ticks": ""
           },
           "bgcolor": "#E5ECF6",
           "caxis": {
            "gridcolor": "white",
            "linecolor": "white",
            "ticks": ""
           }
          },
          "title": {
           "x": 0.05
          },
          "xaxis": {
           "automargin": true,
           "gridcolor": "white",
           "linecolor": "white",
           "ticks": "",
           "title": {
            "standoff": 15
           },
           "zerolinecolor": "white",
           "zerolinewidth": 2
          },
          "yaxis": {
           "automargin": true,
           "gridcolor": "white",
           "linecolor": "white",
           "ticks": "",
           "title": {
            "standoff": 15
           },
           "zerolinecolor": "white",
           "zerolinewidth": 2
          }
         }
        },
        "title": {
         "text": "Heatmap of no. VSOC tickets created per hour of the day<br>From 18/10/2021|03:25:28 to 24/10/2021|22:59:20."
        }
       }
      }
     },
     "metadata": {},
     "output_type": "display_data"
    }
   ],
   "source": [
    "s = pd.to_datetime(cleaned_table['TIMESTAMP'])\n",
    "tickets_count = s.groupby(s.dt.floor('H')).size().reset_index(name='COUNT')\n",
    "tickets_count['DAY'] = tickets_count['TIMESTAMP'].dt.day_name()\n",
    "tickets_count['HR'] = tickets_count['TIMESTAMP'].dt.hour\n",
    "heat_map_data = [go.Heatmap(x=tickets_count['DAY'], y = tickets_count['HR'], z = tickets_count['COUNT'],colorscale='Viridis')]\n",
    "heat_map_layout = go.Layout(title_text='Heatmap of no. VSOC tickets created per hour of the day<br>From {} '\n",
    "                                       'to {}.'.format(cleaned_table.start_timestamp, cleaned_table.end_timestamp,))\n",
    "fig = go.Figure(data = heat_map_data, layout = heat_map_layout)\n",
    "fig.show()\n",
    "fig.write_image(\"./OUTPUT/HEATMAP.pdf\")"
   ]
  },
  {
   "cell_type": "code",
   "execution_count": 49,
   "metadata": {},
   "outputs": [
    {
     "name": "stdout",
     "output_type": "stream",
     "text": [
      "0 19 33 -42.4\n",
      "1 22 35 -37.1\n",
      "2 15 12 25.0\n"
     ]
    }
   ],
   "source": [
    "#  FIGURE 1: EOI Chart - OJA\n",
    "ce_categories_center = ['caused by external actors', 'caused by internal technical actors', 'caused by internal non-technical actors']\n",
    "last_month_ce_count = [33, 35, 12]\n",
    "current_month_ce_count = [19, 22, 15]\n",
    "ce_sum = list(((np.array(current_month_ce_count ) + np.array(last_month_ce_count))))\n",
    "delta_ce = list(((np.array(current_month_ce_count) - np.array(last_month_ce_count )) / last_month_ce_count ) * 100)\n",
    "delta_ce = np.round(delta_ce, decimals=1)\n",
    "\n",
    "green_tag = '<span style=\"color:green\">▼</span>'\n",
    "red_tag = '<span style=\"color:red\">▲</span>'\n",
    "ibm_logo_path = os.path.join(os.getcwd(), 'INPUT/sip-logo.png')\n",
    "\n",
    "fig = go.Figure()\n",
    "fig.add_trace(go.Bar(\n",
    "    x=ce_categories_center,\n",
    "    y=last_month_ce_count,\n",
    "    name='SI count on August',\n",
    "    marker_color='rgb(231,198,91)', \n",
    "    marker_line_color='black',\n",
    "    textposition='inside', \n",
    "    text=last_month_ce_count,\n",
    "    marker_line_width=1.5, \n",
    "    opacity=1.0, width=0.5))\n",
    "\n",
    "fig.add_trace(go.Bar(\n",
    "    x=ce_categories_center,\n",
    "    y=current_month_ce_count,\n",
    "    name='SI count in September', \n",
    "    text=current_month_ce_count,\n",
    "    textposition='inside',\n",
    "    marker_color='white', \n",
    "    marker_line_color='black',\n",
    "    marker_line_width=1.5, \n",
    "    opacity=0.6, width=0.6))\n",
    "\n",
    "fig.add_trace(go.Bar(\n",
    "    x=ce_categories_center, \n",
    "    y=max(current_month_ce_count,last_month_ce_count),\n",
    "    text=delta_ce,\n",
    "    textposition='outside',\n",
    "    marker_line_width=1.5, \n",
    "    opacity=0, \n",
    "    width=0.6,\n",
    "    showlegend=False))\n",
    "\n",
    "for i, (x, y, z) in enumerate(zip(current_month_ce_count, last_month_ce_count, delta_ce)):\n",
    "    print(i, x, y, z)\n",
    "    if z > 0:\n",
    "        fig.add_annotation(x=i,y=max(x+1, y+1),text=\"<b>▲+{}%</b>\".format(z),showarrow=False,font=dict(color=\"red\", size=12),align=\"center\")\n",
    "    else:\n",
    "        fig.add_annotation(x=i,y=max(x+1, y+1),text=\"<b>▼{}%</b>\".format(z),showarrow=False,font=dict(color=\"green\", size=12),align=\"center\")\n",
    "\n",
    "\n",
    "title_plot1 = \"<b> Increase {} and decrease {} in security incidents count categorized by root cause</b>\".format(red_tag, green_tag)\n",
    "\n",
    "fig.layout.images = [dict(\n",
    "    source=ibm_logo_path,\n",
    "    xref=\"paper\", \n",
    "    yref=\"paper\",\n",
    "    x=0.05, \n",
    "    y=1.05,\n",
    "    sizex=0.11, \n",
    "    sizey=0.15,\n",
    "    xanchor=\"center\", \n",
    "    yanchor=\"bottom\")]\n",
    "\n",
    "fig.update_layout(\n",
    "    height=600,\n",
    "    width=1200,\n",
    "    template=\"plotly_white\",\n",
    "    font_family=\"IBM Plex Sans\",\n",
    "    font_size=14,\n",
    "    barmode='overlay', \n",
    "    xaxis_tickangle=0,\n",
    "    title=title_plot1,\n",
    "    title_x=0.5, \n",
    "    font=dict(color=\"black\"),\n",
    "    legend=dict(\n",
    "    orientation=\"h\",\n",
    "    yanchor=\"top\",\n",
    "    y=1.1,\n",
    "    xanchor=\"center\",\n",
    "    x=0.5))\n",
    "    \n",
    "# fig.show()\n",
    "fig.write_image(\"./OUTPUT/EOI.pdf\")"
   ]
  },
  {
   "cell_type": "code",
   "execution_count": 17,
   "metadata": {},
   "outputs": [
    {
     "name": "stdout",
     "output_type": "stream",
     "text": [
      "last_month_sum: 10.0\n",
      "current_month_ce_sum: 5.0\n",
      "delta_ce_sum: -18.166666666666668\n"
     ]
    }
   ],
   "source": [
    "last_month_ce_count = [4, 14, 12, 25, 2, 3]\n",
    "current_month_ce_count = [2, 5, 2, 9, 5, 7]\n",
    "# delta_count_ce = last_\n",
    "delta_percentage_ce = list(((np.array(current_month_ce_count) - np.array(last_month_ce_count )) / np.array(last_month_ce_count)) * 100)\n",
    "delta_percentage_ce = np.round(delta_percentage_ce, decimals=1)\n",
    "ce_sum = current_month_ce_count  + last_month_ce_count\n",
    "\n",
    "print('last_month_sum: {}'.format(np.average(last_month_ce_count)))\n",
    "print('current_month_ce_sum: {}'.format(np.average(current_month_ce_count)))\n",
    "print('delta_ce_sum: {}'.format(np.average(delta_ce)))"
   ]
  }
 ],
 "metadata": {
  "interpreter": {
   "hash": "b7e84e37164d630db6af888c080e86d5ed5e13441c4c326ea3282945e0e98877"
  },
  "kernelspec": {
   "display_name": "Python 3.9.7 64-bit ('base': conda)",
   "name": "python3"
  },
  "language_info": {
   "codemirror_mode": {
    "name": "ipython",
    "version": 3
   },
   "file_extension": ".py",
   "mimetype": "text/x-python",
   "name": "python",
   "nbconvert_exporter": "python",
   "pygments_lexer": "ipython3",
   "version": "3.9.7"
  }
 },
 "nbformat": 4,
 "nbformat_minor": 4
}
