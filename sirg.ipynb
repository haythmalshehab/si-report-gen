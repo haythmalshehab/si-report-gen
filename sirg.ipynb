{
 "cells": [
  {
   "cell_type": "code",
   "execution_count": 192,
   "metadata": {},
   "outputs": [],
   "source": [
    "import numpy as np\n",
    "import pandas as pd\n",
    "import plotly.graph_objects as go\n",
    "import plotly.graph_objects as go\n",
    "import plotly.express as px\n",
    "import os\n",
    "import plotly.io as plt_io\n",
    "# Enable this to export as iframe\n",
    "# plt_io.renderers.default = 'iframe'"
   ]
  },
  {
   "cell_type": "code",
   "execution_count": 193,
   "metadata": {
    "tags": []
   },
   "outputs": [],
   "source": [
    "# Import and clean the excel file\n",
    "trello_table = pd.read_excel('./INPUT/vsoc_report.xlsx')\n",
    "vsoc_fields_dict = {'ISS Ticket ID':'T#',\n",
    "                          'Status': 'STATUS',\n",
    "                          'Severity Code': 'SEVERITY',\n",
    "                          'Create Date': 'TIMESTAMP',\n",
    "                          'Resolution': 'RESOLUTION',\n",
    "                          'Assigned To': 'T_ISSUER',\n",
    "                          'Comments' : 'COMMENT',}\n",
    "\n",
    "trello_table = trello_table[vsoc_fields_dict]\n",
    "trello_table.rename(columns= vsoc_fields_dict, inplace=True)\n",
    "severity_mapper = {'SEV1':'CRITICAL', 'SEV2': 'HIGH', 'SEV3': 'MEDIUM', 'SEV4': 'LOW'}\n",
    "trello_table = trello_table.replace({'SEVERITY': severity_mapper})\n",
    "trello_table['TIMESTAMP'] = pd.to_datetime(trello_table['TIMESTAMP'])\n",
    "trello_table['TIMESTAMP'] = trello_table['TIMESTAMP'].dt.tz_localize('GMT').dt.tz_convert('Asia/Riyadh')\n",
    "trello_table.start_timestamp = trello_table['TIMESTAMP'].min().strftime('%d/%m/%Y|%H:%M:%S')\n",
    "trello_table.end_timestamp = trello_table['TIMESTAMP'].max().strftime('%d/%m/%Y|%H:%M:%S')\n",
    "trello_table.no_days = len(trello_table['TIMESTAMP'].dt.normalize().unique())\n",
    "trello_table.to_csv('./OUTPUT/trello_table.csv', sep=',')"
   ]
  },
  {
   "cell_type": "code",
   "execution_count": 194,
   "metadata": {},
   "outputs": [],
   "source": [
    "trello_table = pd.read_csv('./INPUT/trello_board.csv')\n",
    "trello_fields_dict = {'Card Name':'T#',\n",
    "                          'Card Description': 'DESC',\n",
    "                          'Labels': 'LABELS',\n",
    "                          'List Name': 'STATUS', \n",
    "                          'T_CRE_TS':'T_CREATION_TIMESTAMP', \n",
    "                          'Card ID': 'T_ACK_TIMESTAMP',\n",
    "                          'T_RES_TS': 'T_RESOLUTION_TIMESTAMP'}\n",
    "trello_table = trello_table[trello_fields_dict]\n",
    "trello_table.rename(columns=trello_fields_dict, inplace=True)\n",
    "trello_table['T_CREATION_TIMESTAMP'] = pd.to_datetime(trello_table['T_CREATION_TIMESTAMP'])\n",
    "trello_table['T_RESOLUTION_TIMESTAMP'] = pd.to_datetime(trello_table['T_RESOLUTION_TIMESTAMP'])\n",
    "\n",
    "\n",
    "trello_table.start_timestamp = trello_table['T_CREATION_TIMESTAMP'].min().strftime('%d/%m/%Y|%H:%M:%S')\n",
    "trello_table.end_timestamp = trello_table['T_CREATION_TIMESTAMP'].max().strftime('%d/%m/%Y|%H:%M:%S')\n",
    "trello_table.no_days = len(trello_table['T_CREATION_TIMESTAMP'].dt.normalize().unique())"
   ]
  },
  {
   "cell_type": "code",
   "execution_count": 195,
   "metadata": {},
   "outputs": [],
   "source": [
    "# Only analyze resolved tickets\n",
    "trello_table = trello_table[trello_table['STATUS'] == 'RESOLVED']\n",
    "# display(trello_table)\n",
    "trello_table = trello_table.sort_values(by=['T#'],ignore_index=True)\n",
    "# To get the card creation timestamp from it's ID\n",
    "trello_table['T_ACK_TIMESTAMP'] = [x[:8] for x in trello_table['T_ACK_TIMESTAMP']]\n",
    "trello_table['T_ACK_TIMESTAMP'] = trello_table['T_ACK_TIMESTAMP'].apply(int, base=16)\n",
    "trello_table['T_ACK_TIMESTAMP'] = pd.to_datetime(trello_table['T_ACK_TIMESTAMP'],unit='s')\n",
    "trello_table['T_ACK_TIMESTAMP'] = trello_table['T_ACK_TIMESTAMP'].dt.tz_localize('GMT').dt.tz_convert('Asia/Riyadh')"
   ]
  },
  {
   "cell_type": "code",
   "execution_count": 196,
   "metadata": {},
   "outputs": [
    {
     "data": {
      "text/html": [
       "<div>\n",
       "<style scoped>\n",
       "    .dataframe tbody tr th:only-of-type {\n",
       "        vertical-align: middle;\n",
       "    }\n",
       "\n",
       "    .dataframe tbody tr th {\n",
       "        vertical-align: top;\n",
       "    }\n",
       "\n",
       "    .dataframe thead th {\n",
       "        text-align: right;\n",
       "    }\n",
       "</style>\n",
       "<table border=\"1\" class=\"dataframe\">\n",
       "  <thead>\n",
       "    <tr style=\"text-align: right;\">\n",
       "      <th></th>\n",
       "      <th>T#</th>\n",
       "      <th>STATUS_x</th>\n",
       "      <th>SEVERITY</th>\n",
       "      <th>TIMESTAMP</th>\n",
       "      <th>RESOLUTION</th>\n",
       "      <th>T_ISSUER</th>\n",
       "      <th>COMMENT</th>\n",
       "      <th>DESC</th>\n",
       "      <th>LABELS</th>\n",
       "      <th>STATUS_y</th>\n",
       "      <th>T_CREATION_TIMESTAMP</th>\n",
       "      <th>T_ACK_TIMESTAMP</th>\n",
       "      <th>T_RESOLUTION_TIMESTAMP</th>\n",
       "    </tr>\n",
       "  </thead>\n",
       "  <tbody>\n",
       "  </tbody>\n",
       "</table>\n",
       "</div>"
      ],
      "text/plain": [
       "Empty DataFrame\n",
       "Columns: [T#, STATUS_x, SEVERITY, TIMESTAMP, RESOLUTION, T_ISSUER, COMMENT, DESC, LABELS, STATUS_y, T_CREATION_TIMESTAMP, T_ACK_TIMESTAMP, T_RESOLUTION_TIMESTAMP]\n",
       "Index: []"
      ]
     },
     "metadata": {},
     "output_type": "display_data"
    }
   ],
   "source": [
    "combined_table = pd.merge(trello_table, trello_table, on='T#')\n",
    "combined_table.sort_values(by=['T#'],ignore_index=True)\n",
    "combined_table.index += 1 \n",
    "display(combined_table)\n",
    "combined_table.to_csv('./OUTPUT/combined_table.csv')"
   ]
  },
  {
   "cell_type": "code",
   "execution_count": 197,
   "metadata": {},
   "outputs": [
    {
     "name": "stdout",
     "output_type": "stream",
     "text": [
      "Mean time to resolve =  19.06 business hours\n",
      "Mean time to ack =  19.06 business hours\n"
     ]
    },
    {
     "name": "stderr",
     "output_type": "stream",
     "text": [
      "/Users/haythm/miniconda3/lib/python3.9/site-packages/pandas/core/arrays/datetimes.py:741: PerformanceWarning:\n",
      "\n",
      "Non-vectorized DateOffset being applied to Series or DatetimeIndex\n",
      "\n",
      "/Users/haythm/miniconda3/lib/python3.9/site-packages/pandas/core/arrays/datetimes.py:741: PerformanceWarning:\n",
      "\n",
      "Non-vectorized DateOffset being applied to Series or DatetimeIndex\n",
      "\n"
     ]
    }
   ],
   "source": [
    "# @TODO: time is off by one hour for some reason\n",
    "\n",
    "# Adjust time to resolve to business hours\n",
    "def f(x):\n",
    "    idx = pd.date_range(start=x.T_CREATION_TIMESTAMP, end=x.T_RESOLUTION_TIMESTAMP, freq= bh)\n",
    "    mask = ~((idx.dayofweek == 0) & (idx.hour <= 7))\n",
    "    return len(idx[mask])\n",
    "\n",
    "sip_bh = pd.offsets.CustomBusinessHour(start='08:00', end='16:00', weekmask='Sun Mon Tue Wed Thu')\n",
    "\n",
    "trello_table['T_CREATION_TIMESTAMP_ADJUSTED'] = trello_table['T_CREATION_TIMESTAMP']  + sip_bh\n",
    "trello_table['BUSINESS_HOURS_TO_RESOLVE'] = trello_table.apply(f, axis=1)\n",
    "\n",
    "# @TODO: ack time is wrong. Why?\n",
    "trello_table['T_ACK_TIMESTAMP_ADJUSTED'] = trello_table['T_ACK_TIMESTAMP']  + sip_bh\n",
    "trello_table['BUSINESS_HOURS_TO_ACK'] = trello_table.apply(f, axis=1)\n",
    "\n",
    "mtta = round(trello_table['BUSINESS_HOURS_TO_ACK'].mean(), 2) \n",
    "mttr =  round(trello_table['BUSINESS_HOURS_TO_RESOLVE'].mean(), 2) \n",
    "\n",
    "print('Mean time to resolve = ', mttr, 'business hours')\n",
    "print('Mean time to ack = ', mtta, 'business hours')"
   ]
  },
  {
   "cell_type": "code",
   "execution_count": 206,
   "metadata": {},
   "outputs": [
    {
     "name": "stderr",
     "output_type": "stream",
     "text": [
      "/var/folders/66/48j3cq2j25j62nj7q71wdpt00000gn/T/ipykernel_7316/84126661.py:3: FutureWarning:\n",
      "\n",
      "The default value of regex will change from True to False in a future version.\n",
      "\n",
      "/var/folders/66/48j3cq2j25j62nj7q71wdpt00000gn/T/ipykernel_7316/84126661.py:5: FutureWarning:\n",
      "\n",
      "In a future version of pandas all arguments of concat except for the argument 'objs' will be keyword-only\n",
      "\n"
     ]
    }
   ],
   "source": [
    "# Mapping tags\n",
    "# tags_mapper = {'S1':'CRITICAL', 'SEV2': 'HIGH', 'SEV3': 'MEDIUM', 'SEV4': 'LOW'}\n",
    "trello_table[\"LABELS\"] = trello_table[\"LABELS\"].str.replace('\\([^)]*\\)', '')\n",
    "trello_table['LABELS'].str.split(',', n=-1, expand=True)\n",
    "trello_table = pd.concat([trello_table,trello_table.LABELS.str.get_dummies(sep=',')],1)\n"
   ]
  },
  {
   "cell_type": "code",
   "execution_count": 207,
   "metadata": {},
   "outputs": [
    {
     "data": {
      "text/html": [
       "<div>\n",
       "<style scoped>\n",
       "    .dataframe tbody tr th:only-of-type {\n",
       "        vertical-align: middle;\n",
       "    }\n",
       "\n",
       "    .dataframe tbody tr th {\n",
       "        vertical-align: top;\n",
       "    }\n",
       "\n",
       "    .dataframe thead th {\n",
       "        text-align: right;\n",
       "    }\n",
       "</style>\n",
       "<table border=\"1\" class=\"dataframe\">\n",
       "  <thead>\n",
       "    <tr style=\"text-align: right;\">\n",
       "      <th></th>\n",
       "      <th>T#</th>\n",
       "      <th>DESC</th>\n",
       "      <th>LABELS</th>\n",
       "      <th>STATUS</th>\n",
       "      <th>T_CREATION_TIMESTAMP</th>\n",
       "      <th>T_ACK_TIMESTAMP</th>\n",
       "      <th>T_RESOLUTION_TIMESTAMP</th>\n",
       "      <th>T_CREATION_TIMESTAMP_ADJUSTED</th>\n",
       "      <th>BUSINESS_HOURS_TO_RESOLVE</th>\n",
       "      <th>T_ACK_TIMESTAMP_ADJUSTED</th>\n",
       "      <th>...</th>\n",
       "      <th>S12:CRE</th>\n",
       "      <th>S1:VECTRA</th>\n",
       "      <th>S3:PA</th>\n",
       "      <th>S4:ASC</th>\n",
       "      <th>C1:DC</th>\n",
       "      <th>C2:EUS</th>\n",
       "      <th>C3:GRC</th>\n",
       "      <th>C4:USERS</th>\n",
       "      <th>C5:SEC</th>\n",
       "      <th>C6:APP</th>\n",
       "    </tr>\n",
       "  </thead>\n",
       "  <tbody>\n",
       "    <tr>\n",
       "      <th>0</th>\n",
       "      <td>SOCP00703028513</td>\n",
       "      <td>VPN login success from suspicious location</td>\n",
       "      <td>C3:GRC , C4:USERS , R12:IN , S3:PA</td>\n",
       "      <td>RESOLVED</td>\n",
       "      <td>2021-10-31 09:23:00</td>\n",
       "      <td>2021-10-31 11:03:51+03:00</td>\n",
       "      <td>2021-11-08 14:29:00</td>\n",
       "      <td>2021-10-31 10:23:00</td>\n",
       "      <td>54</td>\n",
       "      <td>2021-10-31 12:03:51+03:00</td>\n",
       "      <td>...</td>\n",
       "      <td>0</td>\n",
       "      <td>0</td>\n",
       "      <td>1</td>\n",
       "      <td>0</td>\n",
       "      <td>0</td>\n",
       "      <td>0</td>\n",
       "      <td>1</td>\n",
       "      <td>0</td>\n",
       "      <td>0</td>\n",
       "      <td>0</td>\n",
       "    </tr>\n",
       "    <tr>\n",
       "      <th>1</th>\n",
       "      <td>SOCP00703028815</td>\n",
       "      <td>Suspicious Admin - Mr. Rafeek from DC team, He...</td>\n",
       "      <td>C1:DC , R1:NI-KA , S1:VECTRA</td>\n",
       "      <td>RESOLVED</td>\n",
       "      <td>2021-10-31 14:13:00</td>\n",
       "      <td>2021-10-31 14:24:08+03:00</td>\n",
       "      <td>2021-11-07 16:31:00</td>\n",
       "      <td>2021-10-31 15:13:00</td>\n",
       "      <td>42</td>\n",
       "      <td>2021-10-31 15:24:08+03:00</td>\n",
       "      <td>...</td>\n",
       "      <td>0</td>\n",
       "      <td>1</td>\n",
       "      <td>0</td>\n",
       "      <td>0</td>\n",
       "      <td>1</td>\n",
       "      <td>0</td>\n",
       "      <td>0</td>\n",
       "      <td>0</td>\n",
       "      <td>0</td>\n",
       "      <td>0</td>\n",
       "    </tr>\n",
       "    <tr>\n",
       "      <th>2</th>\n",
       "      <td>SOCP00703030162</td>\n",
       "      <td>An alert for outgoing connection to China on p...</td>\n",
       "      <td>C4:USERS , R9:NI-OT , S3:PA</td>\n",
       "      <td>RESOLVED</td>\n",
       "      <td>2021-11-01 08:56:00</td>\n",
       "      <td>2021-11-01 09:12:43+03:00</td>\n",
       "      <td>2021-11-08 11:19:00</td>\n",
       "      <td>2021-11-01 09:56:00</td>\n",
       "      <td>43</td>\n",
       "      <td>2021-11-01 10:12:43+03:00</td>\n",
       "      <td>...</td>\n",
       "      <td>0</td>\n",
       "      <td>0</td>\n",
       "      <td>1</td>\n",
       "      <td>0</td>\n",
       "      <td>0</td>\n",
       "      <td>0</td>\n",
       "      <td>0</td>\n",
       "      <td>1</td>\n",
       "      <td>0</td>\n",
       "      <td>0</td>\n",
       "    </tr>\n",
       "    <tr>\n",
       "      <th>3</th>\n",
       "      <td>SOCP00703031013</td>\n",
       "      <td>User logged in from Bahrain using 2FA. Due to ...</td>\n",
       "      <td>C4:USERS , R1:NI-KA , S4:ASC</td>\n",
       "      <td>RESOLVED</td>\n",
       "      <td>2021-11-01 19:34:28</td>\n",
       "      <td>2021-11-02 08:57:15+03:00</td>\n",
       "      <td>2021-11-02 13:28:00</td>\n",
       "      <td>2021-11-02 09:00:00</td>\n",
       "      <td>6</td>\n",
       "      <td>2021-11-02 09:57:15+03:00</td>\n",
       "      <td>...</td>\n",
       "      <td>0</td>\n",
       "      <td>0</td>\n",
       "      <td>0</td>\n",
       "      <td>1</td>\n",
       "      <td>0</td>\n",
       "      <td>0</td>\n",
       "      <td>0</td>\n",
       "      <td>1</td>\n",
       "      <td>0</td>\n",
       "      <td>0</td>\n",
       "    </tr>\n",
       "    <tr>\n",
       "      <th>4</th>\n",
       "      <td>SOCP00703032009</td>\n",
       "      <td>A duplicate alert for SOCP00703012537. It was ...</td>\n",
       "      <td>C4:USERS , R9:NI-OT , S4:ASC</td>\n",
       "      <td>RESOLVED</td>\n",
       "      <td>2021-11-02 05:37:00</td>\n",
       "      <td>2021-11-02 08:59:34+03:00</td>\n",
       "      <td>2021-11-02 14:00:00</td>\n",
       "      <td>2021-11-02 09:00:00</td>\n",
       "      <td>7</td>\n",
       "      <td>2021-11-02 09:59:34+03:00</td>\n",
       "      <td>...</td>\n",
       "      <td>0</td>\n",
       "      <td>0</td>\n",
       "      <td>0</td>\n",
       "      <td>1</td>\n",
       "      <td>0</td>\n",
       "      <td>0</td>\n",
       "      <td>0</td>\n",
       "      <td>1</td>\n",
       "      <td>0</td>\n",
       "      <td>0</td>\n",
       "    </tr>\n",
       "    <tr>\n",
       "      <th>5</th>\n",
       "      <td>SOCP00703032222</td>\n",
       "      <td>SMB Brute-Force. New laptops – Part of tech re...</td>\n",
       "      <td>C2:EUS , R1:NI-KA , S1:VECTRA</td>\n",
       "      <td>RESOLVED</td>\n",
       "      <td>2021-11-02 08:35:00</td>\n",
       "      <td>2021-11-02 08:57:04+03:00</td>\n",
       "      <td>2021-11-07 10:19:00</td>\n",
       "      <td>2021-11-02 09:35:00</td>\n",
       "      <td>26</td>\n",
       "      <td>2021-11-02 09:57:04+03:00</td>\n",
       "      <td>...</td>\n",
       "      <td>0</td>\n",
       "      <td>1</td>\n",
       "      <td>0</td>\n",
       "      <td>0</td>\n",
       "      <td>0</td>\n",
       "      <td>1</td>\n",
       "      <td>0</td>\n",
       "      <td>0</td>\n",
       "      <td>0</td>\n",
       "      <td>0</td>\n",
       "    </tr>\n",
       "    <tr>\n",
       "      <th>6</th>\n",
       "      <td>SOCP00703034177</td>\n",
       "      <td>Connections attempts from internal APIPA range...</td>\n",
       "      <td>C5:SEC , O:169.254 , O:NS , R2:FP-TU , S3:PA</td>\n",
       "      <td>RESOLVED</td>\n",
       "      <td>2021-11-03 01:53:00</td>\n",
       "      <td>2021-11-03 10:01:55+03:00</td>\n",
       "      <td>2021-11-08 10:28:00</td>\n",
       "      <td>2021-11-03 09:00:00</td>\n",
       "      <td>27</td>\n",
       "      <td>2021-11-03 11:01:55+03:00</td>\n",
       "      <td>...</td>\n",
       "      <td>0</td>\n",
       "      <td>0</td>\n",
       "      <td>1</td>\n",
       "      <td>0</td>\n",
       "      <td>0</td>\n",
       "      <td>0</td>\n",
       "      <td>0</td>\n",
       "      <td>0</td>\n",
       "      <td>1</td>\n",
       "      <td>0</td>\n",
       "    </tr>\n",
       "    <tr>\n",
       "      <th>7</th>\n",
       "      <td>SOCP00703034616</td>\n",
       "      <td>Azure Security Center log source appeared to b...</td>\n",
       "      <td>C5:SEC , R1:NI-KA , S12:CRE</td>\n",
       "      <td>RESOLVED</td>\n",
       "      <td>2021-11-03 06:28:00</td>\n",
       "      <td>2021-11-03 10:01:43+03:00</td>\n",
       "      <td>2021-11-03 10:04:00</td>\n",
       "      <td>2021-11-03 09:00:00</td>\n",
       "      <td>3</td>\n",
       "      <td>2021-11-03 11:01:43+03:00</td>\n",
       "      <td>...</td>\n",
       "      <td>1</td>\n",
       "      <td>0</td>\n",
       "      <td>0</td>\n",
       "      <td>0</td>\n",
       "      <td>0</td>\n",
       "      <td>0</td>\n",
       "      <td>0</td>\n",
       "      <td>0</td>\n",
       "      <td>1</td>\n",
       "      <td>0</td>\n",
       "    </tr>\n",
       "    <tr>\n",
       "      <th>8</th>\n",
       "      <td>SOCP00703035015</td>\n",
       "      <td>SMB Brute-Force. New laptops – Part of tech re...</td>\n",
       "      <td>C2:EUS , R1:NI-KA , S1:VECTRA</td>\n",
       "      <td>RESOLVED</td>\n",
       "      <td>2021-11-03 10:53:00</td>\n",
       "      <td>2021-11-03 12:39:15+03:00</td>\n",
       "      <td>2021-11-07 16:28:00</td>\n",
       "      <td>2021-11-03 11:53:00</td>\n",
       "      <td>22</td>\n",
       "      <td>2021-11-03 13:39:15+03:00</td>\n",
       "      <td>...</td>\n",
       "      <td>0</td>\n",
       "      <td>1</td>\n",
       "      <td>0</td>\n",
       "      <td>0</td>\n",
       "      <td>0</td>\n",
       "      <td>1</td>\n",
       "      <td>0</td>\n",
       "      <td>0</td>\n",
       "      <td>0</td>\n",
       "      <td>0</td>\n",
       "    </tr>\n",
       "    <tr>\n",
       "      <th>9</th>\n",
       "      <td>SOCP00703035322</td>\n",
       "      <td>VPN access from AE. Duplicate of SOCP00703013856.</td>\n",
       "      <td>C3:GRC , C4:USERS , R12:IN , S3:PA</td>\n",
       "      <td>RESOLVED</td>\n",
       "      <td>2021-11-03 14:38:00</td>\n",
       "      <td>2021-11-04 11:13:07+03:00</td>\n",
       "      <td>2021-11-08 14:43:00</td>\n",
       "      <td>2021-11-03 15:38:00</td>\n",
       "      <td>25</td>\n",
       "      <td>2021-11-04 12:13:07+03:00</td>\n",
       "      <td>...</td>\n",
       "      <td>0</td>\n",
       "      <td>0</td>\n",
       "      <td>1</td>\n",
       "      <td>0</td>\n",
       "      <td>0</td>\n",
       "      <td>0</td>\n",
       "      <td>1</td>\n",
       "      <td>0</td>\n",
       "      <td>0</td>\n",
       "      <td>0</td>\n",
       "    </tr>\n",
       "    <tr>\n",
       "      <th>10</th>\n",
       "      <td>SOCP00703035334</td>\n",
       "      <td>SMB Brute-Force. New laptops – Part of tech re...</td>\n",
       "      <td>C2:EUS , R1:NI-KA , S1:VECTRA</td>\n",
       "      <td>RESOLVED</td>\n",
       "      <td>2021-11-03 14:55:00</td>\n",
       "      <td>2021-11-04 11:12:59+03:00</td>\n",
       "      <td>2021-11-07 09:28:00</td>\n",
       "      <td>2021-11-03 15:55:00</td>\n",
       "      <td>11</td>\n",
       "      <td>2021-11-04 12:12:59+03:00</td>\n",
       "      <td>...</td>\n",
       "      <td>0</td>\n",
       "      <td>1</td>\n",
       "      <td>0</td>\n",
       "      <td>0</td>\n",
       "      <td>0</td>\n",
       "      <td>1</td>\n",
       "      <td>0</td>\n",
       "      <td>0</td>\n",
       "      <td>0</td>\n",
       "      <td>0</td>\n",
       "    </tr>\n",
       "    <tr>\n",
       "      <th>11</th>\n",
       "      <td>SOCP00703038617</td>\n",
       "      <td>Blocked traffic from domains ending with .xyz ...</td>\n",
       "      <td>C4:USERS , O:NS , R6:NI-BL , S3:PA</td>\n",
       "      <td>RESOLVED</td>\n",
       "      <td>2021-11-04 18:40:00</td>\n",
       "      <td>2021-11-07 09:17:37+03:00</td>\n",
       "      <td>2021-11-08 10:34:00</td>\n",
       "      <td>2021-11-07 09:00:00</td>\n",
       "      <td>11</td>\n",
       "      <td>2021-11-07 10:17:37+03:00</td>\n",
       "      <td>...</td>\n",
       "      <td>0</td>\n",
       "      <td>0</td>\n",
       "      <td>1</td>\n",
       "      <td>0</td>\n",
       "      <td>0</td>\n",
       "      <td>0</td>\n",
       "      <td>0</td>\n",
       "      <td>1</td>\n",
       "      <td>0</td>\n",
       "      <td>0</td>\n",
       "    </tr>\n",
       "    <tr>\n",
       "      <th>12</th>\n",
       "      <td>SOCP00703039722</td>\n",
       "      <td>An alert for Azure Security Center not sending...</td>\n",
       "      <td>C5:SEC , R1:NI-KA , S4:ASC</td>\n",
       "      <td>RESOLVED</td>\n",
       "      <td>2021-11-05 02:37:00</td>\n",
       "      <td>2021-11-07 09:17:42+03:00</td>\n",
       "      <td>2021-11-07 16:49:00</td>\n",
       "      <td>2021-11-07 09:00:00</td>\n",
       "      <td>8</td>\n",
       "      <td>2021-11-07 10:17:42+03:00</td>\n",
       "      <td>...</td>\n",
       "      <td>0</td>\n",
       "      <td>0</td>\n",
       "      <td>0</td>\n",
       "      <td>1</td>\n",
       "      <td>0</td>\n",
       "      <td>0</td>\n",
       "      <td>0</td>\n",
       "      <td>0</td>\n",
       "      <td>1</td>\n",
       "      <td>0</td>\n",
       "    </tr>\n",
       "    <tr>\n",
       "      <th>13</th>\n",
       "      <td>SOCP00703041168</td>\n",
       "      <td>Team Europe + 2FA -&gt; NI-KA</td>\n",
       "      <td>C4:USERS , R1:NI-KA , S3:PA</td>\n",
       "      <td>RESOLVED</td>\n",
       "      <td>2021-11-05 16:59:00</td>\n",
       "      <td>2021-11-07 09:20:06+03:00</td>\n",
       "      <td>2021-11-08 15:09:00</td>\n",
       "      <td>2021-11-07 09:00:00</td>\n",
       "      <td>16</td>\n",
       "      <td>2021-11-07 10:20:06+03:00</td>\n",
       "      <td>...</td>\n",
       "      <td>0</td>\n",
       "      <td>0</td>\n",
       "      <td>1</td>\n",
       "      <td>0</td>\n",
       "      <td>0</td>\n",
       "      <td>0</td>\n",
       "      <td>0</td>\n",
       "      <td>1</td>\n",
       "      <td>0</td>\n",
       "      <td>0</td>\n",
       "    </tr>\n",
       "    <tr>\n",
       "      <th>14</th>\n",
       "      <td>SOCP00703045078</td>\n",
       "      <td>Suspicious Admin - Mr. Muhammad U. Tipu from O...</td>\n",
       "      <td>C6:APP , R1:NI-KA , S1:VECTRA</td>\n",
       "      <td>RESOLVED</td>\n",
       "      <td>2021-11-07 10:18:00</td>\n",
       "      <td>2021-11-07 15:53:55+03:00</td>\n",
       "      <td>2021-11-08 08:56:00</td>\n",
       "      <td>2021-11-07 11:18:00</td>\n",
       "      <td>7</td>\n",
       "      <td>2021-11-08 08:53:55+03:00</td>\n",
       "      <td>...</td>\n",
       "      <td>0</td>\n",
       "      <td>1</td>\n",
       "      <td>0</td>\n",
       "      <td>0</td>\n",
       "      <td>0</td>\n",
       "      <td>0</td>\n",
       "      <td>0</td>\n",
       "      <td>0</td>\n",
       "      <td>0</td>\n",
       "      <td>1</td>\n",
       "    </tr>\n",
       "    <tr>\n",
       "      <th>15</th>\n",
       "      <td>SOCP00703045095</td>\n",
       "      <td>Duplicate of SOCP00703030162</td>\n",
       "      <td>C4:USERS , R9:NI-OT , S3:PA</td>\n",
       "      <td>RESOLVED</td>\n",
       "      <td>2021-11-07 10:37:00</td>\n",
       "      <td>2021-11-07 15:54:02+03:00</td>\n",
       "      <td>2021-11-08 11:29:00</td>\n",
       "      <td>2021-11-07 11:37:00</td>\n",
       "      <td>9</td>\n",
       "      <td>2021-11-08 08:54:02+03:00</td>\n",
       "      <td>...</td>\n",
       "      <td>0</td>\n",
       "      <td>0</td>\n",
       "      <td>1</td>\n",
       "      <td>0</td>\n",
       "      <td>0</td>\n",
       "      <td>0</td>\n",
       "      <td>0</td>\n",
       "      <td>1</td>\n",
       "      <td>0</td>\n",
       "      <td>0</td>\n",
       "    </tr>\n",
       "    <tr>\n",
       "      <th>16</th>\n",
       "      <td>SOCP00703045986</td>\n",
       "      <td>Alert for Microsoft Windows RPC Encrypted Data...</td>\n",
       "      <td>C1:DC , P3:MEDIUM , R1:NI-KA , S3:PA</td>\n",
       "      <td>RESOLVED</td>\n",
       "      <td>2021-11-08 02:00:00</td>\n",
       "      <td>2021-11-08 08:49:04+03:00</td>\n",
       "      <td>2021-11-08 14:22:00</td>\n",
       "      <td>2021-11-08 09:00:00</td>\n",
       "      <td>7</td>\n",
       "      <td>2021-11-08 09:49:04+03:00</td>\n",
       "      <td>...</td>\n",
       "      <td>0</td>\n",
       "      <td>0</td>\n",
       "      <td>1</td>\n",
       "      <td>0</td>\n",
       "      <td>1</td>\n",
       "      <td>0</td>\n",
       "      <td>0</td>\n",
       "      <td>0</td>\n",
       "      <td>0</td>\n",
       "      <td>0</td>\n",
       "    </tr>\n",
       "  </tbody>\n",
       "</table>\n",
       "<p>17 rows × 49 columns</p>\n",
       "</div>"
      ],
      "text/plain": [
       "                 T#                                               DESC  \\\n",
       "0   SOCP00703028513         VPN login success from suspicious location   \n",
       "1   SOCP00703028815  Suspicious Admin - Mr. Rafeek from DC team, He...   \n",
       "2   SOCP00703030162  An alert for outgoing connection to China on p...   \n",
       "3   SOCP00703031013  User logged in from Bahrain using 2FA. Due to ...   \n",
       "4   SOCP00703032009  A duplicate alert for SOCP00703012537. It was ...   \n",
       "5   SOCP00703032222  SMB Brute-Force. New laptops – Part of tech re...   \n",
       "6   SOCP00703034177  Connections attempts from internal APIPA range...   \n",
       "7   SOCP00703034616  Azure Security Center log source appeared to b...   \n",
       "8   SOCP00703035015  SMB Brute-Force. New laptops – Part of tech re...   \n",
       "9   SOCP00703035322  VPN access from AE. Duplicate of SOCP00703013856.   \n",
       "10  SOCP00703035334  SMB Brute-Force. New laptops – Part of tech re...   \n",
       "11  SOCP00703038617  Blocked traffic from domains ending with .xyz ...   \n",
       "12  SOCP00703039722  An alert for Azure Security Center not sending...   \n",
       "13  SOCP00703041168                         Team Europe + 2FA -> NI-KA   \n",
       "14  SOCP00703045078  Suspicious Admin - Mr. Muhammad U. Tipu from O...   \n",
       "15  SOCP00703045095                       Duplicate of SOCP00703030162   \n",
       "16  SOCP00703045986  Alert for Microsoft Windows RPC Encrypted Data...   \n",
       "\n",
       "                                           LABELS    STATUS  \\\n",
       "0             C3:GRC , C4:USERS , R12:IN , S3:PA   RESOLVED   \n",
       "1                   C1:DC , R1:NI-KA , S1:VECTRA   RESOLVED   \n",
       "2                    C4:USERS , R9:NI-OT , S3:PA   RESOLVED   \n",
       "3                   C4:USERS , R1:NI-KA , S4:ASC   RESOLVED   \n",
       "4                   C4:USERS , R9:NI-OT , S4:ASC   RESOLVED   \n",
       "5                  C2:EUS , R1:NI-KA , S1:VECTRA   RESOLVED   \n",
       "6   C5:SEC , O:169.254 , O:NS , R2:FP-TU , S3:PA   RESOLVED   \n",
       "7                    C5:SEC , R1:NI-KA , S12:CRE   RESOLVED   \n",
       "8                  C2:EUS , R1:NI-KA , S1:VECTRA   RESOLVED   \n",
       "9             C3:GRC , C4:USERS , R12:IN , S3:PA   RESOLVED   \n",
       "10                 C2:EUS , R1:NI-KA , S1:VECTRA   RESOLVED   \n",
       "11            C4:USERS , O:NS , R6:NI-BL , S3:PA   RESOLVED   \n",
       "12                    C5:SEC , R1:NI-KA , S4:ASC   RESOLVED   \n",
       "13                   C4:USERS , R1:NI-KA , S3:PA   RESOLVED   \n",
       "14                 C6:APP , R1:NI-KA , S1:VECTRA   RESOLVED   \n",
       "15                   C4:USERS , R9:NI-OT , S3:PA   RESOLVED   \n",
       "16          C1:DC , P3:MEDIUM , R1:NI-KA , S3:PA   RESOLVED   \n",
       "\n",
       "   T_CREATION_TIMESTAMP           T_ACK_TIMESTAMP T_RESOLUTION_TIMESTAMP  \\\n",
       "0   2021-10-31 09:23:00 2021-10-31 11:03:51+03:00    2021-11-08 14:29:00   \n",
       "1   2021-10-31 14:13:00 2021-10-31 14:24:08+03:00    2021-11-07 16:31:00   \n",
       "2   2021-11-01 08:56:00 2021-11-01 09:12:43+03:00    2021-11-08 11:19:00   \n",
       "3   2021-11-01 19:34:28 2021-11-02 08:57:15+03:00    2021-11-02 13:28:00   \n",
       "4   2021-11-02 05:37:00 2021-11-02 08:59:34+03:00    2021-11-02 14:00:00   \n",
       "5   2021-11-02 08:35:00 2021-11-02 08:57:04+03:00    2021-11-07 10:19:00   \n",
       "6   2021-11-03 01:53:00 2021-11-03 10:01:55+03:00    2021-11-08 10:28:00   \n",
       "7   2021-11-03 06:28:00 2021-11-03 10:01:43+03:00    2021-11-03 10:04:00   \n",
       "8   2021-11-03 10:53:00 2021-11-03 12:39:15+03:00    2021-11-07 16:28:00   \n",
       "9   2021-11-03 14:38:00 2021-11-04 11:13:07+03:00    2021-11-08 14:43:00   \n",
       "10  2021-11-03 14:55:00 2021-11-04 11:12:59+03:00    2021-11-07 09:28:00   \n",
       "11  2021-11-04 18:40:00 2021-11-07 09:17:37+03:00    2021-11-08 10:34:00   \n",
       "12  2021-11-05 02:37:00 2021-11-07 09:17:42+03:00    2021-11-07 16:49:00   \n",
       "13  2021-11-05 16:59:00 2021-11-07 09:20:06+03:00    2021-11-08 15:09:00   \n",
       "14  2021-11-07 10:18:00 2021-11-07 15:53:55+03:00    2021-11-08 08:56:00   \n",
       "15  2021-11-07 10:37:00 2021-11-07 15:54:02+03:00    2021-11-08 11:29:00   \n",
       "16  2021-11-08 02:00:00 2021-11-08 08:49:04+03:00    2021-11-08 14:22:00   \n",
       "\n",
       "   T_CREATION_TIMESTAMP_ADJUSTED  BUSINESS_HOURS_TO_RESOLVE  \\\n",
       "0            2021-10-31 10:23:00                         54   \n",
       "1            2021-10-31 15:13:00                         42   \n",
       "2            2021-11-01 09:56:00                         43   \n",
       "3            2021-11-02 09:00:00                          6   \n",
       "4            2021-11-02 09:00:00                          7   \n",
       "5            2021-11-02 09:35:00                         26   \n",
       "6            2021-11-03 09:00:00                         27   \n",
       "7            2021-11-03 09:00:00                          3   \n",
       "8            2021-11-03 11:53:00                         22   \n",
       "9            2021-11-03 15:38:00                         25   \n",
       "10           2021-11-03 15:55:00                         11   \n",
       "11           2021-11-07 09:00:00                         11   \n",
       "12           2021-11-07 09:00:00                          8   \n",
       "13           2021-11-07 09:00:00                         16   \n",
       "14           2021-11-07 11:18:00                          7   \n",
       "15           2021-11-07 11:37:00                          9   \n",
       "16           2021-11-08 09:00:00                          7   \n",
       "\n",
       "    T_ACK_TIMESTAMP_ADJUSTED  ...   S12:CRE    S1:VECTRA    S3:PA    S4:ASC   \\\n",
       "0  2021-10-31 12:03:51+03:00  ...          0            0        1         0   \n",
       "1  2021-10-31 15:24:08+03:00  ...          0            1        0         0   \n",
       "2  2021-11-01 10:12:43+03:00  ...          0            0        1         0   \n",
       "3  2021-11-02 09:57:15+03:00  ...          0            0        0         1   \n",
       "4  2021-11-02 09:59:34+03:00  ...          0            0        0         1   \n",
       "5  2021-11-02 09:57:04+03:00  ...          0            1        0         0   \n",
       "6  2021-11-03 11:01:55+03:00  ...          0            0        1         0   \n",
       "7  2021-11-03 11:01:43+03:00  ...          1            0        0         0   \n",
       "8  2021-11-03 13:39:15+03:00  ...          0            1        0         0   \n",
       "9  2021-11-04 12:13:07+03:00  ...          0            0        1         0   \n",
       "10 2021-11-04 12:12:59+03:00  ...          0            1        0         0   \n",
       "11 2021-11-07 10:17:37+03:00  ...          0            0        1         0   \n",
       "12 2021-11-07 10:17:42+03:00  ...          0            0        0         1   \n",
       "13 2021-11-07 10:20:06+03:00  ...          0            0        1         0   \n",
       "14 2021-11-08 08:53:55+03:00  ...          0            1        0         0   \n",
       "15 2021-11-08 08:54:02+03:00  ...          0            0        1         0   \n",
       "16 2021-11-08 09:49:04+03:00  ...          0            0        1         0   \n",
       "\n",
       "    C1:DC   C2:EUS   C3:GRC   C4:USERS   C5:SEC   C6:APP   \n",
       "0        0        0        1          0        0        0  \n",
       "1        1        0        0          0        0        0  \n",
       "2        0        0        0          1        0        0  \n",
       "3        0        0        0          1        0        0  \n",
       "4        0        0        0          1        0        0  \n",
       "5        0        1        0          0        0        0  \n",
       "6        0        0        0          0        1        0  \n",
       "7        0        0        0          0        1        0  \n",
       "8        0        1        0          0        0        0  \n",
       "9        0        0        1          0        0        0  \n",
       "10       0        1        0          0        0        0  \n",
       "11       0        0        0          1        0        0  \n",
       "12       0        0        0          0        1        0  \n",
       "13       0        0        0          1        0        0  \n",
       "14       0        0        0          0        0        1  \n",
       "15       0        0        0          1        0        0  \n",
       "16       1        0        0          0        0        0  \n",
       "\n",
       "[17 rows x 49 columns]"
      ]
     },
     "metadata": {},
     "output_type": "display_data"
    }
   ],
   "source": [
    "display(trello_table)\n",
    "trello_table.to_csv('./OUTPUT/trello_table.csv')"
   ]
  },
  {
   "cell_type": "code",
   "execution_count": 213,
   "metadata": {},
   "outputs": [
    {
     "ename": "KeyError",
     "evalue": "'S1:VECTRA'",
     "output_type": "error",
     "traceback": [
      "\u001b[0;31m---------------------------------------------------------------------------\u001b[0m",
      "\u001b[0;31mKeyError\u001b[0m                                  Traceback (most recent call last)",
      "\u001b[0;32m~/miniconda3/lib/python3.9/site-packages/pandas/core/indexes/base.py\u001b[0m in \u001b[0;36mget_loc\u001b[0;34m(self, key, method, tolerance)\u001b[0m\n\u001b[1;32m   3360\u001b[0m             \u001b[0;32mtry\u001b[0m\u001b[0;34m:\u001b[0m\u001b[0;34m\u001b[0m\u001b[0;34m\u001b[0m\u001b[0m\n\u001b[0;32m-> 3361\u001b[0;31m                 \u001b[0;32mreturn\u001b[0m \u001b[0mself\u001b[0m\u001b[0;34m.\u001b[0m\u001b[0m_engine\u001b[0m\u001b[0;34m.\u001b[0m\u001b[0mget_loc\u001b[0m\u001b[0;34m(\u001b[0m\u001b[0mcasted_key\u001b[0m\u001b[0;34m)\u001b[0m\u001b[0;34m\u001b[0m\u001b[0;34m\u001b[0m\u001b[0m\n\u001b[0m\u001b[1;32m   3362\u001b[0m             \u001b[0;32mexcept\u001b[0m \u001b[0mKeyError\u001b[0m \u001b[0;32mas\u001b[0m \u001b[0merr\u001b[0m\u001b[0;34m:\u001b[0m\u001b[0;34m\u001b[0m\u001b[0;34m\u001b[0m\u001b[0m\n",
      "\u001b[0;32m~/miniconda3/lib/python3.9/site-packages/pandas/_libs/index.pyx\u001b[0m in \u001b[0;36mpandas._libs.index.IndexEngine.get_loc\u001b[0;34m()\u001b[0m\n",
      "\u001b[0;32m~/miniconda3/lib/python3.9/site-packages/pandas/_libs/index.pyx\u001b[0m in \u001b[0;36mpandas._libs.index.IndexEngine.get_loc\u001b[0;34m()\u001b[0m\n",
      "\u001b[0;32m~/miniconda3/lib/python3.9/site-packages/pandas/_libs/index.pyx\u001b[0m in \u001b[0;36mpandas._libs.index.IndexEngine._get_loc_duplicates\u001b[0;34m()\u001b[0m\n",
      "\u001b[0;32m~/miniconda3/lib/python3.9/site-packages/pandas/_libs/index.pyx\u001b[0m in \u001b[0;36mpandas._libs.index.IndexEngine._maybe_get_bool_indexer\u001b[0;34m()\u001b[0m\n",
      "\u001b[0;32m~/miniconda3/lib/python3.9/site-packages/pandas/_libs/index.pyx\u001b[0m in \u001b[0;36mpandas._libs.index.IndexEngine._unpack_bool_indexer\u001b[0;34m()\u001b[0m\n",
      "\u001b[0;31mKeyError\u001b[0m: 'S1:VECTRA'",
      "\nThe above exception was the direct cause of the following exception:\n",
      "\u001b[0;31mKeyError\u001b[0m                                  Traceback (most recent call last)",
      "\u001b[0;32m/var/folders/66/48j3cq2j25j62nj7q71wdpt00000gn/T/ipykernel_7316/2601131232.py\u001b[0m in \u001b[0;36m<module>\u001b[0;34m\u001b[0m\n\u001b[1;32m      3\u001b[0m \u001b[0;32mfor\u001b[0m \u001b[0mrequired_field\u001b[0m \u001b[0;32min\u001b[0m \u001b[0mrequired_fields\u001b[0m\u001b[0;34m:\u001b[0m\u001b[0;34m\u001b[0m\u001b[0;34m\u001b[0m\u001b[0m\n\u001b[1;32m      4\u001b[0m     \u001b[0mtrello_table_copy\u001b[0m \u001b[0;34m=\u001b[0m \u001b[0mtrello_table\u001b[0m\u001b[0;34m.\u001b[0m\u001b[0mcopy\u001b[0m\u001b[0;34m(\u001b[0m\u001b[0;34m)\u001b[0m\u001b[0;34m\u001b[0m\u001b[0;34m\u001b[0m\u001b[0m\n\u001b[0;32m----> 5\u001b[0;31m     \u001b[0mseries\u001b[0m \u001b[0;34m=\u001b[0m \u001b[0mpd\u001b[0m\u001b[0;34m.\u001b[0m\u001b[0mvalue_counts\u001b[0m\u001b[0;34m(\u001b[0m\u001b[0mtrello_table_copy\u001b[0m\u001b[0;34m[\u001b[0m\u001b[0mrequired_field\u001b[0m\u001b[0;34m]\u001b[0m\u001b[0;34m)\u001b[0m\u001b[0;34m\u001b[0m\u001b[0;34m\u001b[0m\u001b[0m\n\u001b[0m\u001b[1;32m      6\u001b[0m     \u001b[0mmask\u001b[0m \u001b[0;34m=\u001b[0m \u001b[0;34m(\u001b[0m\u001b[0mseries\u001b[0m\u001b[0;34m/\u001b[0m\u001b[0mseries\u001b[0m\u001b[0;34m.\u001b[0m\u001b[0msum\u001b[0m\u001b[0;34m(\u001b[0m\u001b[0;34m)\u001b[0m \u001b[0;34m*\u001b[0m \u001b[0;36m100\u001b[0m\u001b[0;34m)\u001b[0m\u001b[0;34m.\u001b[0m\u001b[0mlt\u001b[0m\u001b[0;34m(\u001b[0m\u001b[0;36m1.0\u001b[0m\u001b[0;34m)\u001b[0m\u001b[0;34m\u001b[0m\u001b[0;34m\u001b[0m\u001b[0m\n\u001b[1;32m      7\u001b[0m     \u001b[0mtrello_table_copy\u001b[0m\u001b[0;34m[\u001b[0m\u001b[0mrequired_field\u001b[0m\u001b[0;34m]\u001b[0m \u001b[0;34m=\u001b[0m \u001b[0mnp\u001b[0m\u001b[0;34m.\u001b[0m\u001b[0mwhere\u001b[0m\u001b[0;34m(\u001b[0m\u001b[0mtrello_table_copy\u001b[0m\u001b[0;34m[\u001b[0m\u001b[0mrequired_field\u001b[0m\u001b[0;34m]\u001b[0m\u001b[0;34m.\u001b[0m\u001b[0misin\u001b[0m\u001b[0;34m(\u001b[0m\u001b[0mseries\u001b[0m\u001b[0;34m[\u001b[0m\u001b[0mmask\u001b[0m\u001b[0;34m]\u001b[0m\u001b[0;34m.\u001b[0m\u001b[0mindex\u001b[0m\u001b[0;34m)\u001b[0m\u001b[0;34m,\u001b[0m\u001b[0;34m'OTHERS ≤ 1.0%'\u001b[0m\u001b[0;34m.\u001b[0m\u001b[0mformat\u001b[0m\u001b[0;34m(\u001b[0m\u001b[0mrequired_field\u001b[0m\u001b[0;34m)\u001b[0m\u001b[0;34m,\u001b[0m\u001b[0mtrello_table_copy\u001b[0m\u001b[0;34m[\u001b[0m\u001b[0mrequired_field\u001b[0m\u001b[0;34m]\u001b[0m\u001b[0;34m)\u001b[0m\u001b[0;34m\u001b[0m\u001b[0;34m\u001b[0m\u001b[0m\n",
      "\u001b[0;32m~/miniconda3/lib/python3.9/site-packages/pandas/core/frame.py\u001b[0m in \u001b[0;36m__getitem__\u001b[0;34m(self, key)\u001b[0m\n\u001b[1;32m   3456\u001b[0m             \u001b[0;32mif\u001b[0m \u001b[0mself\u001b[0m\u001b[0;34m.\u001b[0m\u001b[0mcolumns\u001b[0m\u001b[0;34m.\u001b[0m\u001b[0mnlevels\u001b[0m \u001b[0;34m>\u001b[0m \u001b[0;36m1\u001b[0m\u001b[0;34m:\u001b[0m\u001b[0;34m\u001b[0m\u001b[0;34m\u001b[0m\u001b[0m\n\u001b[1;32m   3457\u001b[0m                 \u001b[0;32mreturn\u001b[0m \u001b[0mself\u001b[0m\u001b[0;34m.\u001b[0m\u001b[0m_getitem_multilevel\u001b[0m\u001b[0;34m(\u001b[0m\u001b[0mkey\u001b[0m\u001b[0;34m)\u001b[0m\u001b[0;34m\u001b[0m\u001b[0;34m\u001b[0m\u001b[0m\n\u001b[0;32m-> 3458\u001b[0;31m             \u001b[0mindexer\u001b[0m \u001b[0;34m=\u001b[0m \u001b[0mself\u001b[0m\u001b[0;34m.\u001b[0m\u001b[0mcolumns\u001b[0m\u001b[0;34m.\u001b[0m\u001b[0mget_loc\u001b[0m\u001b[0;34m(\u001b[0m\u001b[0mkey\u001b[0m\u001b[0;34m)\u001b[0m\u001b[0;34m\u001b[0m\u001b[0;34m\u001b[0m\u001b[0m\n\u001b[0m\u001b[1;32m   3459\u001b[0m             \u001b[0;32mif\u001b[0m \u001b[0mis_integer\u001b[0m\u001b[0;34m(\u001b[0m\u001b[0mindexer\u001b[0m\u001b[0;34m)\u001b[0m\u001b[0;34m:\u001b[0m\u001b[0;34m\u001b[0m\u001b[0;34m\u001b[0m\u001b[0m\n\u001b[1;32m   3460\u001b[0m                 \u001b[0mindexer\u001b[0m \u001b[0;34m=\u001b[0m \u001b[0;34m[\u001b[0m\u001b[0mindexer\u001b[0m\u001b[0;34m]\u001b[0m\u001b[0;34m\u001b[0m\u001b[0;34m\u001b[0m\u001b[0m\n",
      "\u001b[0;32m~/miniconda3/lib/python3.9/site-packages/pandas/core/indexes/base.py\u001b[0m in \u001b[0;36mget_loc\u001b[0;34m(self, key, method, tolerance)\u001b[0m\n\u001b[1;32m   3361\u001b[0m                 \u001b[0;32mreturn\u001b[0m \u001b[0mself\u001b[0m\u001b[0;34m.\u001b[0m\u001b[0m_engine\u001b[0m\u001b[0;34m.\u001b[0m\u001b[0mget_loc\u001b[0m\u001b[0;34m(\u001b[0m\u001b[0mcasted_key\u001b[0m\u001b[0;34m)\u001b[0m\u001b[0;34m\u001b[0m\u001b[0;34m\u001b[0m\u001b[0m\n\u001b[1;32m   3362\u001b[0m             \u001b[0;32mexcept\u001b[0m \u001b[0mKeyError\u001b[0m \u001b[0;32mas\u001b[0m \u001b[0merr\u001b[0m\u001b[0;34m:\u001b[0m\u001b[0;34m\u001b[0m\u001b[0;34m\u001b[0m\u001b[0m\n\u001b[0;32m-> 3363\u001b[0;31m                 \u001b[0;32mraise\u001b[0m \u001b[0mKeyError\u001b[0m\u001b[0;34m(\u001b[0m\u001b[0mkey\u001b[0m\u001b[0;34m)\u001b[0m \u001b[0;32mfrom\u001b[0m \u001b[0merr\u001b[0m\u001b[0;34m\u001b[0m\u001b[0;34m\u001b[0m\u001b[0m\n\u001b[0m\u001b[1;32m   3364\u001b[0m \u001b[0;34m\u001b[0m\u001b[0m\n\u001b[1;32m   3365\u001b[0m         \u001b[0;32mif\u001b[0m \u001b[0mis_scalar\u001b[0m\u001b[0;34m(\u001b[0m\u001b[0mkey\u001b[0m\u001b[0;34m)\u001b[0m \u001b[0;32mand\u001b[0m \u001b[0misna\u001b[0m\u001b[0;34m(\u001b[0m\u001b[0mkey\u001b[0m\u001b[0;34m)\u001b[0m \u001b[0;32mand\u001b[0m \u001b[0;32mnot\u001b[0m \u001b[0mself\u001b[0m\u001b[0;34m.\u001b[0m\u001b[0mhasnans\u001b[0m\u001b[0;34m:\u001b[0m\u001b[0;34m\u001b[0m\u001b[0;34m\u001b[0m\u001b[0m\n",
      "\u001b[0;31mKeyError\u001b[0m: 'S1:VECTRA'"
     ]
    }
   ],
   "source": [
    "# Generate basic bar plot for the main features of si-report\n",
    "required_fields = ['S1:VECTRA', 'R1:NI-KA']\n",
    "for required_field in required_fields:\n",
    "    trello_table_copy = trello_table.copy()\n",
    "    series = pd.value_counts(trello_table_copy[required_field])\n",
    "    mask = (series/series.sum() * 100).lt(1.0)\n",
    "    trello_table_copy[required_field] = np.where(trello_table_copy[required_field].isin(series[mask].index),'OTHERS ≤ 1.0%'.format(required_field),trello_table_copy[required_field])\n",
    "    required_field_count = trello_table_copy[required_field].value_counts()    \n",
    "    required_field_count = required_field_count.rename_axis(required_field).reset_index(name='{}_COUNT'.format(required_field))\n",
    "    required_field_count = required_field_count.reset_index(drop=True)\n",
    "    required_field_count.index.rename('NO.', inplace=True)\n",
    "    required_field_count.index+=1\n",
    "    required_field_count['{}_PCT'.format(required_field)] = required_field_count['{}_COUNT'.format(required_field)] / required_field_count['{}_COUNT'.format(required_field)].sum()\n",
    "    required_field_count.to_csv('./OUTPUT/{}.csv'.format(required_field), sep=',')\n",
    "    my_layout = go.Layout(title_text='Distribution of Common Event<br>From {} to {}<br>sorted by {} '.format(\n",
    "        trello_table.start_timestamp, trello_table.end_timestamp,required_field), font=dict(color='#7f7f7f',size=10))\n",
    "    \n",
    "    my_data = go.Bar(x=required_field_count['{}_COUNT'.format(required_field)], y=required_field_count[required_field], orientation='h')\n",
    "    \n",
    "    fig = go.Figure(data=my_data, layout=my_layout)\n",
    "    # tune the font_size to your needs\n",
    "    fig.update_layout(font_size=10,title_x=0.5)\n",
    "    fig.update_traces(\n",
    "        marker_color='rgb(231,198,91)',\n",
    "        marker_line_color='black',\n",
    "        marker_line_width=1.0,\n",
    "        textposition='outside',\n",
    "        opacity=1.0)\n",
    "    fig.write_image('./OUTPUT/{}_COUNT.pdf'.format(required_field))\n",
    "    # fig.show()"
   ]
  },
  {
   "cell_type": "code",
   "execution_count": 200,
   "metadata": {},
   "outputs": [],
   "source": [
    "# Generate basic bar plot for the main features of si-report\n",
    "required_fields = ['T_ISSUER', 'SEVERITY', 'RESOLUTION']\n",
    "for required_field in required_fields:\n",
    "    trello_table_copy = trello_table.copy()\n",
    "    series = pd.value_counts(trello_table_copy[required_field])\n",
    "    mask = (series/series.sum() * 100).lt(1.0)\n",
    "    trello_table_copy[required_field] = np.where(trello_table_copy[required_field].isin(series[mask].index),'OTHERS ≤ 1.0%'.format(required_field),trello_table_copy[required_field])\n",
    "    required_field_count = trello_table_copy[required_field].value_counts()    \n",
    "    required_field_count = required_field_count.rename_axis(required_field).reset_index(name='{}_COUNT'.format(required_field))\n",
    "    required_field_count = required_field_count.reset_index(drop=True)\n",
    "    required_field_count.index.rename('NO.', inplace=True)\n",
    "    required_field_count.index+=1\n",
    "    required_field_count['{}_PCT'.format(required_field)] = required_field_count['{}_COUNT'.format(required_field)] / required_field_count['{}_COUNT'.format(required_field)].sum()\n",
    "    required_field_count.to_csv('./OUTPUT/{}.csv'.format(required_field), sep=',')\n",
    "    my_layout = go.Layout(title_text='Distribution of Common Event<br>From {} to {}<br>sorted by {} '.format(\n",
    "        trello_table.start_timestamp, trello_table.end_timestamp,required_field), font=dict(color='#7f7f7f',size=10))\n",
    "    \n",
    "    my_data = go.Bar(x=required_field_count['{}_COUNT'.format(required_field)], y=required_field_count[required_field], orientation='h')\n",
    "    \n",
    "    fig = go.Figure(data=my_data, layout=my_layout)\n",
    "    # tune the font_size to your needs\n",
    "    fig.update_layout(font_size=10,title_x=0.5)\n",
    "    fig.update_traces(\n",
    "        marker_color='rgb(231,198,91)',\n",
    "        marker_line_color='black',\n",
    "        marker_line_width=1.0,\n",
    "        textposition='outside',\n",
    "        opacity=1.0)\n",
    "    fig.write_image('./OUTPUT/{}_COUNT.pdf'.format(required_field))\n",
    "    # fig.show()"
   ]
  },
  {
   "cell_type": "code",
   "execution_count": 201,
   "metadata": {},
   "outputs": [],
   "source": [
    "# Generate a summary table of the main features\n",
    "summary_table = trello_table.groupby(['STATUS', 'SEVERITY', 'RESOLUTION']).size().unstack(fill_value=0)\n",
    "summary_table.to_csv('./OUTPUT/SUMMARY_TABLE.csv', sep=',')"
   ]
  },
  {
   "cell_type": "code",
   "execution_count": 208,
   "metadata": {},
   "outputs": [],
   "source": [
    "tickets_count = trello_table['T#'].value_counts()\n",
    "tickets_count = tickets_count.rename_axis('T#').reset_index(name='T#_COUNT')\n",
    "tickets_count = tickets_count.reset_index(drop=True)\n",
    "tickets_count.index.rename('NO.', inplace=True)\n",
    "tickets_count.index+=1\n",
    "tickets_count['T#_PCT'] = tickets_count['T#_COUNT'] / tickets_count['T#_COUNT'].sum()\n",
    "s = pd.to_datetime(trello_table['T_CREATION_TIMESTAMP'])\n",
    "tickets_count = s.groupby(s.dt.floor('d')).size().reset_index(name='COUNT')\n",
    "# Plot ----------------------------------------------------------------------------------------------\n",
    "my_layout = go.Layout(\n",
    "    title='Global Font',\n",
    "    font=dict(color='#7f7f7f', size=10),\n",
    "    showlegend=False)\n",
    "my_data = go.Scatter(\n",
    "    x=tickets_count['T_CREATION_TIMESTAMP'],\n",
    "    y=tickets_count['COUNT'],\n",
    "    mode='lines+markers+text')\n",
    "fig = go.Figure(data=my_data, layout=my_layout)\n",
    "\n",
    "fig.update_layout(shapes=[\n",
    "    # Line Horizontal\n",
    "    go.layout.Shape(\n",
    "        type='line',\n",
    "        x0=tickets_count['T_CREATION_TIMESTAMP'].min(),\n",
    "        y0=tickets_count['COUNT'].mean(),\n",
    "        x1=tickets_count['T_CREATION_TIMESTAMP'].max(),\n",
    "        y1=tickets_count['COUNT'].mean(),\n",
    "        line=dict(\n",
    "            color='black',\n",
    "            width=2,\n",
    "            dash='longdash',\n",
    "        ),\n",
    "    ),\n",
    "])\n",
    "\n",
    "fig.add_trace(\n",
    "    go.Scatter(\n",
    "        x=[\n",
    "            tickets_count['T_CREATION_TIMESTAMP'].max() -\n",
    "            pd.Timedelta(days=trello_table\n",
    "        .no_days) / 2\n",
    "        ],\n",
    "        y=[tickets_count['COUNT'].mean()],\n",
    "        mode='markers+text',\n",
    "        name='Markers and Text',\n",
    "        hoverinfo='skip',\n",
    "        textposition='top right'))\n",
    "\n",
    "fig.update_traces(\n",
    "    marker_color='rgb(231,198,91)',\n",
    "    marker_line_color='black',\n",
    "    marker_line_width=1,\n",
    "    opacity=1.0)\n",
    "fig.update_layout(\n",
    "    title_text='VSOC tickets trendline grouped by the day<br>From {} to {}. dashed line '\n",
    "               'represents<br>the average no. VSOC tickets ({} '\n",
    "               'VSOC tickets per day)'.format(trello_table\n",
    "            .start_timestamp, trello_table\n",
    "            .end_timestamp,\n",
    "                                             int(tickets_count['COUNT'].mean())),font_size=10,title_x=0.5)\n",
    "\n",
    "fig.update_traces(\n",
    "marker_color='rgb(231,198,91)',\n",
    "marker_line_color='black',\n",
    "marker_line_width=1.0,\n",
    "opacity=1.0)\n",
    "# tune the font_size to your needs\n",
    "fig.update_layout(font_size=12)\n",
    "# fig.show()\n",
    "fig.write_image('./OUTPUT/TRENDLINE.pdf')"
   ]
  },
  {
   "cell_type": "code",
   "execution_count": 210,
   "metadata": {},
   "outputs": [
    {
     "data": {
      "application/vnd.plotly.v1+json": {
       "config": {
        "plotlyServerURL": "https://plot.ly"
       },
       "data": [
        {
         "colorscale": [
          [
           0,
           "#440154"
          ],
          [
           0.1111111111111111,
           "#482878"
          ],
          [
           0.2222222222222222,
           "#3e4989"
          ],
          [
           0.3333333333333333,
           "#31688e"
          ],
          [
           0.4444444444444444,
           "#26828e"
          ],
          [
           0.5555555555555556,
           "#1f9e89"
          ],
          [
           0.6666666666666666,
           "#35b779"
          ],
          [
           0.7777777777777778,
           "#6ece58"
          ],
          [
           0.8888888888888888,
           "#b5de2b"
          ],
          [
           1,
           "#fde725"
          ]
         ],
         "type": "heatmap",
         "x": [
          "Sunday",
          "Sunday",
          "Monday",
          "Monday",
          "Tuesday",
          "Tuesday",
          "Wednesday",
          "Wednesday",
          "Wednesday",
          "Wednesday",
          "Thursday",
          "Friday",
          "Friday",
          "Sunday",
          "Monday"
         ],
         "y": [
          9,
          14,
          8,
          19,
          5,
          8,
          1,
          6,
          10,
          14,
          18,
          2,
          16,
          10,
          2
         ],
         "z": [
          1,
          1,
          1,
          1,
          1,
          1,
          1,
          1,
          1,
          2,
          1,
          1,
          1,
          2,
          1
         ]
        }
       ],
       "layout": {
        "template": {
         "data": {
          "bar": [
           {
            "error_x": {
             "color": "#2a3f5f"
            },
            "error_y": {
             "color": "#2a3f5f"
            },
            "marker": {
             "line": {
              "color": "#E5ECF6",
              "width": 0.5
             },
             "pattern": {
              "fillmode": "overlay",
              "size": 10,
              "solidity": 0.2
             }
            },
            "type": "bar"
           }
          ],
          "barpolar": [
           {
            "marker": {
             "line": {
              "color": "#E5ECF6",
              "width": 0.5
             },
             "pattern": {
              "fillmode": "overlay",
              "size": 10,
              "solidity": 0.2
             }
            },
            "type": "barpolar"
           }
          ],
          "carpet": [
           {
            "aaxis": {
             "endlinecolor": "#2a3f5f",
             "gridcolor": "white",
             "linecolor": "white",
             "minorgridcolor": "white",
             "startlinecolor": "#2a3f5f"
            },
            "baxis": {
             "endlinecolor": "#2a3f5f",
             "gridcolor": "white",
             "linecolor": "white",
             "minorgridcolor": "white",
             "startlinecolor": "#2a3f5f"
            },
            "type": "carpet"
           }
          ],
          "choropleth": [
           {
            "colorbar": {
             "outlinewidth": 0,
             "ticks": ""
            },
            "type": "choropleth"
           }
          ],
          "contour": [
           {
            "colorbar": {
             "outlinewidth": 0,
             "ticks": ""
            },
            "colorscale": [
             [
              0,
              "#0d0887"
             ],
             [
              0.1111111111111111,
              "#46039f"
             ],
             [
              0.2222222222222222,
              "#7201a8"
             ],
             [
              0.3333333333333333,
              "#9c179e"
             ],
             [
              0.4444444444444444,
              "#bd3786"
             ],
             [
              0.5555555555555556,
              "#d8576b"
             ],
             [
              0.6666666666666666,
              "#ed7953"
             ],
             [
              0.7777777777777778,
              "#fb9f3a"
             ],
             [
              0.8888888888888888,
              "#fdca26"
             ],
             [
              1,
              "#f0f921"
             ]
            ],
            "type": "contour"
           }
          ],
          "contourcarpet": [
           {
            "colorbar": {
             "outlinewidth": 0,
             "ticks": ""
            },
            "type": "contourcarpet"
           }
          ],
          "heatmap": [
           {
            "colorbar": {
             "outlinewidth": 0,
             "ticks": ""
            },
            "colorscale": [
             [
              0,
              "#0d0887"
             ],
             [
              0.1111111111111111,
              "#46039f"
             ],
             [
              0.2222222222222222,
              "#7201a8"
             ],
             [
              0.3333333333333333,
              "#9c179e"
             ],
             [
              0.4444444444444444,
              "#bd3786"
             ],
             [
              0.5555555555555556,
              "#d8576b"
             ],
             [
              0.6666666666666666,
              "#ed7953"
             ],
             [
              0.7777777777777778,
              "#fb9f3a"
             ],
             [
              0.8888888888888888,
              "#fdca26"
             ],
             [
              1,
              "#f0f921"
             ]
            ],
            "type": "heatmap"
           }
          ],
          "heatmapgl": [
           {
            "colorbar": {
             "outlinewidth": 0,
             "ticks": ""
            },
            "colorscale": [
             [
              0,
              "#0d0887"
             ],
             [
              0.1111111111111111,
              "#46039f"
             ],
             [
              0.2222222222222222,
              "#7201a8"
             ],
             [
              0.3333333333333333,
              "#9c179e"
             ],
             [
              0.4444444444444444,
              "#bd3786"
             ],
             [
              0.5555555555555556,
              "#d8576b"
             ],
             [
              0.6666666666666666,
              "#ed7953"
             ],
             [
              0.7777777777777778,
              "#fb9f3a"
             ],
             [
              0.8888888888888888,
              "#fdca26"
             ],
             [
              1,
              "#f0f921"
             ]
            ],
            "type": "heatmapgl"
           }
          ],
          "histogram": [
           {
            "marker": {
             "pattern": {
              "fillmode": "overlay",
              "size": 10,
              "solidity": 0.2
             }
            },
            "type": "histogram"
           }
          ],
          "histogram2d": [
           {
            "colorbar": {
             "outlinewidth": 0,
             "ticks": ""
            },
            "colorscale": [
             [
              0,
              "#0d0887"
             ],
             [
              0.1111111111111111,
              "#46039f"
             ],
             [
              0.2222222222222222,
              "#7201a8"
             ],
             [
              0.3333333333333333,
              "#9c179e"
             ],
             [
              0.4444444444444444,
              "#bd3786"
             ],
             [
              0.5555555555555556,
              "#d8576b"
             ],
             [
              0.6666666666666666,
              "#ed7953"
             ],
             [
              0.7777777777777778,
              "#fb9f3a"
             ],
             [
              0.8888888888888888,
              "#fdca26"
             ],
             [
              1,
              "#f0f921"
             ]
            ],
            "type": "histogram2d"
           }
          ],
          "histogram2dcontour": [
           {
            "colorbar": {
             "outlinewidth": 0,
             "ticks": ""
            },
            "colorscale": [
             [
              0,
              "#0d0887"
             ],
             [
              0.1111111111111111,
              "#46039f"
             ],
             [
              0.2222222222222222,
              "#7201a8"
             ],
             [
              0.3333333333333333,
              "#9c179e"
             ],
             [
              0.4444444444444444,
              "#bd3786"
             ],
             [
              0.5555555555555556,
              "#d8576b"
             ],
             [
              0.6666666666666666,
              "#ed7953"
             ],
             [
              0.7777777777777778,
              "#fb9f3a"
             ],
             [
              0.8888888888888888,
              "#fdca26"
             ],
             [
              1,
              "#f0f921"
             ]
            ],
            "type": "histogram2dcontour"
           }
          ],
          "mesh3d": [
           {
            "colorbar": {
             "outlinewidth": 0,
             "ticks": ""
            },
            "type": "mesh3d"
           }
          ],
          "parcoords": [
           {
            "line": {
             "colorbar": {
              "outlinewidth": 0,
              "ticks": ""
             }
            },
            "type": "parcoords"
           }
          ],
          "pie": [
           {
            "automargin": true,
            "type": "pie"
           }
          ],
          "scatter": [
           {
            "marker": {
             "colorbar": {
              "outlinewidth": 0,
              "ticks": ""
             }
            },
            "type": "scatter"
           }
          ],
          "scatter3d": [
           {
            "line": {
             "colorbar": {
              "outlinewidth": 0,
              "ticks": ""
             }
            },
            "marker": {
             "colorbar": {
              "outlinewidth": 0,
              "ticks": ""
             }
            },
            "type": "scatter3d"
           }
          ],
          "scattercarpet": [
           {
            "marker": {
             "colorbar": {
              "outlinewidth": 0,
              "ticks": ""
             }
            },
            "type": "scattercarpet"
           }
          ],
          "scattergeo": [
           {
            "marker": {
             "colorbar": {
              "outlinewidth": 0,
              "ticks": ""
             }
            },
            "type": "scattergeo"
           }
          ],
          "scattergl": [
           {
            "marker": {
             "colorbar": {
              "outlinewidth": 0,
              "ticks": ""
             }
            },
            "type": "scattergl"
           }
          ],
          "scattermapbox": [
           {
            "marker": {
             "colorbar": {
              "outlinewidth": 0,
              "ticks": ""
             }
            },
            "type": "scattermapbox"
           }
          ],
          "scatterpolar": [
           {
            "marker": {
             "colorbar": {
              "outlinewidth": 0,
              "ticks": ""
             }
            },
            "type": "scatterpolar"
           }
          ],
          "scatterpolargl": [
           {
            "marker": {
             "colorbar": {
              "outlinewidth": 0,
              "ticks": ""
             }
            },
            "type": "scatterpolargl"
           }
          ],
          "scatterternary": [
           {
            "marker": {
             "colorbar": {
              "outlinewidth": 0,
              "ticks": ""
             }
            },
            "type": "scatterternary"
           }
          ],
          "surface": [
           {
            "colorbar": {
             "outlinewidth": 0,
             "ticks": ""
            },
            "colorscale": [
             [
              0,
              "#0d0887"
             ],
             [
              0.1111111111111111,
              "#46039f"
             ],
             [
              0.2222222222222222,
              "#7201a8"
             ],
             [
              0.3333333333333333,
              "#9c179e"
             ],
             [
              0.4444444444444444,
              "#bd3786"
             ],
             [
              0.5555555555555556,
              "#d8576b"
             ],
             [
              0.6666666666666666,
              "#ed7953"
             ],
             [
              0.7777777777777778,
              "#fb9f3a"
             ],
             [
              0.8888888888888888,
              "#fdca26"
             ],
             [
              1,
              "#f0f921"
             ]
            ],
            "type": "surface"
           }
          ],
          "table": [
           {
            "cells": {
             "fill": {
              "color": "#EBF0F8"
             },
             "line": {
              "color": "white"
             }
            },
            "header": {
             "fill": {
              "color": "#C8D4E3"
             },
             "line": {
              "color": "white"
             }
            },
            "type": "table"
           }
          ]
         },
         "layout": {
          "annotationdefaults": {
           "arrowcolor": "#2a3f5f",
           "arrowhead": 0,
           "arrowwidth": 1
          },
          "autotypenumbers": "strict",
          "coloraxis": {
           "colorbar": {
            "outlinewidth": 0,
            "ticks": ""
           }
          },
          "colorscale": {
           "diverging": [
            [
             0,
             "#8e0152"
            ],
            [
             0.1,
             "#c51b7d"
            ],
            [
             0.2,
             "#de77ae"
            ],
            [
             0.3,
             "#f1b6da"
            ],
            [
             0.4,
             "#fde0ef"
            ],
            [
             0.5,
             "#f7f7f7"
            ],
            [
             0.6,
             "#e6f5d0"
            ],
            [
             0.7,
             "#b8e186"
            ],
            [
             0.8,
             "#7fbc41"
            ],
            [
             0.9,
             "#4d9221"
            ],
            [
             1,
             "#276419"
            ]
           ],
           "sequential": [
            [
             0,
             "#0d0887"
            ],
            [
             0.1111111111111111,
             "#46039f"
            ],
            [
             0.2222222222222222,
             "#7201a8"
            ],
            [
             0.3333333333333333,
             "#9c179e"
            ],
            [
             0.4444444444444444,
             "#bd3786"
            ],
            [
             0.5555555555555556,
             "#d8576b"
            ],
            [
             0.6666666666666666,
             "#ed7953"
            ],
            [
             0.7777777777777778,
             "#fb9f3a"
            ],
            [
             0.8888888888888888,
             "#fdca26"
            ],
            [
             1,
             "#f0f921"
            ]
           ],
           "sequentialminus": [
            [
             0,
             "#0d0887"
            ],
            [
             0.1111111111111111,
             "#46039f"
            ],
            [
             0.2222222222222222,
             "#7201a8"
            ],
            [
             0.3333333333333333,
             "#9c179e"
            ],
            [
             0.4444444444444444,
             "#bd3786"
            ],
            [
             0.5555555555555556,
             "#d8576b"
            ],
            [
             0.6666666666666666,
             "#ed7953"
            ],
            [
             0.7777777777777778,
             "#fb9f3a"
            ],
            [
             0.8888888888888888,
             "#fdca26"
            ],
            [
             1,
             "#f0f921"
            ]
           ]
          },
          "colorway": [
           "#636efa",
           "#EF553B",
           "#00cc96",
           "#ab63fa",
           "#FFA15A",
           "#19d3f3",
           "#FF6692",
           "#B6E880",
           "#FF97FF",
           "#FECB52"
          ],
          "font": {
           "color": "#2a3f5f"
          },
          "geo": {
           "bgcolor": "white",
           "lakecolor": "white",
           "landcolor": "#E5ECF6",
           "showlakes": true,
           "showland": true,
           "subunitcolor": "white"
          },
          "hoverlabel": {
           "align": "left"
          },
          "hovermode": "closest",
          "mapbox": {
           "style": "light"
          },
          "paper_bgcolor": "white",
          "plot_bgcolor": "#E5ECF6",
          "polar": {
           "angularaxis": {
            "gridcolor": "white",
            "linecolor": "white",
            "ticks": ""
           },
           "bgcolor": "#E5ECF6",
           "radialaxis": {
            "gridcolor": "white",
            "linecolor": "white",
            "ticks": ""
           }
          },
          "scene": {
           "xaxis": {
            "backgroundcolor": "#E5ECF6",
            "gridcolor": "white",
            "gridwidth": 2,
            "linecolor": "white",
            "showbackground": true,
            "ticks": "",
            "zerolinecolor": "white"
           },
           "yaxis": {
            "backgroundcolor": "#E5ECF6",
            "gridcolor": "white",
            "gridwidth": 2,
            "linecolor": "white",
            "showbackground": true,
            "ticks": "",
            "zerolinecolor": "white"
           },
           "zaxis": {
            "backgroundcolor": "#E5ECF6",
            "gridcolor": "white",
            "gridwidth": 2,
            "linecolor": "white",
            "showbackground": true,
            "ticks": "",
            "zerolinecolor": "white"
           }
          },
          "shapedefaults": {
           "line": {
            "color": "#2a3f5f"
           }
          },
          "ternary": {
           "aaxis": {
            "gridcolor": "white",
            "linecolor": "white",
            "ticks": ""
           },
           "baxis": {
            "gridcolor": "white",
            "linecolor": "white",
            "ticks": ""
           },
           "bgcolor": "#E5ECF6",
           "caxis": {
            "gridcolor": "white",
            "linecolor": "white",
            "ticks": ""
           }
          },
          "title": {
           "x": 0.05
          },
          "xaxis": {
           "automargin": true,
           "gridcolor": "white",
           "linecolor": "white",
           "ticks": "",
           "title": {
            "standoff": 15
           },
           "zerolinecolor": "white",
           "zerolinewidth": 2
          },
          "yaxis": {
           "automargin": true,
           "gridcolor": "white",
           "linecolor": "white",
           "ticks": "",
           "title": {
            "standoff": 15
           },
           "zerolinecolor": "white",
           "zerolinewidth": 2
          }
         }
        },
        "title": {
         "text": "Heatmap of no. VSOC tickets created per hour of the day<br>From 18/10/2021|03:25:28 to 24/10/2021|22:59:20."
        }
       }
      }
     },
     "metadata": {},
     "output_type": "display_data"
    }
   ],
   "source": [
    "s = pd.to_datetime(trello_table['T_CREATION_TIMESTAMP'])\n",
    "tickets_count = s.groupby(s.dt.floor('H')).size().reset_index(name='COUNT')\n",
    "tickets_count['DAY'] = tickets_count['T_CREATION_TIMESTAMP'].dt.day_name()\n",
    "tickets_count['HR'] = tickets_count['T_CREATION_TIMESTAMP'].dt.hour\n",
    "heat_map_data = [go.Heatmap(x=tickets_count['DAY'], y = tickets_count['HR'], z = tickets_count['COUNT'],colorscale='Viridis')]\n",
    "heat_map_layout = go.Layout(title_text='Heatmap of no. VSOC tickets created per hour of the day<br>From {} '\n",
    "                                       'to {}.'.format(trello_table.start_timestamp, trello_table.end_timestamp,))\n",
    "fig = go.Figure(data = heat_map_data, layout = heat_map_layout)\n",
    "fig.show()\n",
    "fig.write_image('./OUTPUT/HEATMAP.pdf')"
   ]
  },
  {
   "cell_type": "code",
   "execution_count": 204,
   "metadata": {},
   "outputs": [
    {
     "name": "stdout",
     "output_type": "stream",
     "text": [
      "0 19 33 -42.4\n",
      "1 22 35 -37.1\n",
      "2 15 12 25.0\n"
     ]
    },
    {
     "data": {
      "application/vnd.plotly.v1+json": {
       "config": {
        "plotlyServerURL": "https://plot.ly"
       },
       "data": [
        {
         "marker": {
          "color": "rgb(231,198,91)",
          "line": {
           "color": "black",
           "width": 1.5
          }
         },
         "name": "SI count on August",
         "opacity": 1,
         "text": [
          "33",
          "35",
          "12"
         ],
         "textposition": "inside",
         "type": "bar",
         "width": 0.5,
         "x": [
          "caused by external actors",
          "caused by internal technical actors",
          "caused by internal non-technical actors"
         ],
         "y": [
          33,
          35,
          12
         ]
        },
        {
         "marker": {
          "color": "white",
          "line": {
           "color": "black",
           "width": 1.5
          }
         },
         "name": "SI count in September",
         "opacity": 0.6,
         "text": [
          "19",
          "22",
          "15"
         ],
         "textposition": "inside",
         "type": "bar",
         "width": 0.6,
         "x": [
          "caused by external actors",
          "caused by internal technical actors",
          "caused by internal non-technical actors"
         ],
         "y": [
          19,
          22,
          15
         ]
        },
        {
         "marker": {
          "line": {
           "width": 1.5
          }
         },
         "opacity": 0,
         "showlegend": false,
         "text": [
          "-42.4",
          "-37.1",
          "25.0"
         ],
         "textposition": "outside",
         "type": "bar",
         "width": 0.6,
         "x": [
          "caused by external actors",
          "caused by internal technical actors",
          "caused by internal non-technical actors"
         ],
         "y": [
          33,
          35,
          12
         ]
        }
       ],
       "layout": {
        "annotations": [
         {
          "align": "center",
          "font": {
           "color": "green",
           "size": 12
          },
          "showarrow": false,
          "text": "<b>▼-42.4%</b>",
          "x": 0,
          "y": 34
         },
         {
          "align": "center",
          "font": {
           "color": "green",
           "size": 12
          },
          "showarrow": false,
          "text": "<b>▼-37.1%</b>",
          "x": 1,
          "y": 36
         },
         {
          "align": "center",
          "font": {
           "color": "red",
           "size": 12
          },
          "showarrow": false,
          "text": "<b>▲+25.0%</b>",
          "x": 2,
          "y": 16
         }
        ],
        "barmode": "overlay",
        "font": {
         "color": "black",
         "family": "IBM Plex Sans",
         "size": 14
        },
        "height": 600,
        "images": [
         {
          "sizex": 0.11,
          "sizey": 0.15,
          "source": "/Users/haythm/Desktop/PERSONAL_FILES/GIT/si-report-gen/INPUT/sip-logo.png",
          "x": 0.05,
          "xanchor": "center",
          "xref": "paper",
          "y": 1.05,
          "yanchor": "bottom",
          "yref": "paper"
         }
        ],
        "legend": {
         "orientation": "h",
         "x": 0.5,
         "xanchor": "center",
         "y": 1.1,
         "yanchor": "top"
        },
        "template": {
         "data": {
          "bar": [
           {
            "error_x": {
             "color": "#2a3f5f"
            },
            "error_y": {
             "color": "#2a3f5f"
            },
            "marker": {
             "line": {
              "color": "white",
              "width": 0.5
             },
             "pattern": {
              "fillmode": "overlay",
              "size": 10,
              "solidity": 0.2
             }
            },
            "type": "bar"
           }
          ],
          "barpolar": [
           {
            "marker": {
             "line": {
              "color": "white",
              "width": 0.5
             },
             "pattern": {
              "fillmode": "overlay",
              "size": 10,
              "solidity": 0.2
             }
            },
            "type": "barpolar"
           }
          ],
          "carpet": [
           {
            "aaxis": {
             "endlinecolor": "#2a3f5f",
             "gridcolor": "#C8D4E3",
             "linecolor": "#C8D4E3",
             "minorgridcolor": "#C8D4E3",
             "startlinecolor": "#2a3f5f"
            },
            "baxis": {
             "endlinecolor": "#2a3f5f",
             "gridcolor": "#C8D4E3",
             "linecolor": "#C8D4E3",
             "minorgridcolor": "#C8D4E3",
             "startlinecolor": "#2a3f5f"
            },
            "type": "carpet"
           }
          ],
          "choropleth": [
           {
            "colorbar": {
             "outlinewidth": 0,
             "ticks": ""
            },
            "type": "choropleth"
           }
          ],
          "contour": [
           {
            "colorbar": {
             "outlinewidth": 0,
             "ticks": ""
            },
            "colorscale": [
             [
              0,
              "#0d0887"
             ],
             [
              0.1111111111111111,
              "#46039f"
             ],
             [
              0.2222222222222222,
              "#7201a8"
             ],
             [
              0.3333333333333333,
              "#9c179e"
             ],
             [
              0.4444444444444444,
              "#bd3786"
             ],
             [
              0.5555555555555556,
              "#d8576b"
             ],
             [
              0.6666666666666666,
              "#ed7953"
             ],
             [
              0.7777777777777778,
              "#fb9f3a"
             ],
             [
              0.8888888888888888,
              "#fdca26"
             ],
             [
              1,
              "#f0f921"
             ]
            ],
            "type": "contour"
           }
          ],
          "contourcarpet": [
           {
            "colorbar": {
             "outlinewidth": 0,
             "ticks": ""
            },
            "type": "contourcarpet"
           }
          ],
          "heatmap": [
           {
            "colorbar": {
             "outlinewidth": 0,
             "ticks": ""
            },
            "colorscale": [
             [
              0,
              "#0d0887"
             ],
             [
              0.1111111111111111,
              "#46039f"
             ],
             [
              0.2222222222222222,
              "#7201a8"
             ],
             [
              0.3333333333333333,
              "#9c179e"
             ],
             [
              0.4444444444444444,
              "#bd3786"
             ],
             [
              0.5555555555555556,
              "#d8576b"
             ],
             [
              0.6666666666666666,
              "#ed7953"
             ],
             [
              0.7777777777777778,
              "#fb9f3a"
             ],
             [
              0.8888888888888888,
              "#fdca26"
             ],
             [
              1,
              "#f0f921"
             ]
            ],
            "type": "heatmap"
           }
          ],
          "heatmapgl": [
           {
            "colorbar": {
             "outlinewidth": 0,
             "ticks": ""
            },
            "colorscale": [
             [
              0,
              "#0d0887"
             ],
             [
              0.1111111111111111,
              "#46039f"
             ],
             [
              0.2222222222222222,
              "#7201a8"
             ],
             [
              0.3333333333333333,
              "#9c179e"
             ],
             [
              0.4444444444444444,
              "#bd3786"
             ],
             [
              0.5555555555555556,
              "#d8576b"
             ],
             [
              0.6666666666666666,
              "#ed7953"
             ],
             [
              0.7777777777777778,
              "#fb9f3a"
             ],
             [
              0.8888888888888888,
              "#fdca26"
             ],
             [
              1,
              "#f0f921"
             ]
            ],
            "type": "heatmapgl"
           }
          ],
          "histogram": [
           {
            "marker": {
             "pattern": {
              "fillmode": "overlay",
              "size": 10,
              "solidity": 0.2
             }
            },
            "type": "histogram"
           }
          ],
          "histogram2d": [
           {
            "colorbar": {
             "outlinewidth": 0,
             "ticks": ""
            },
            "colorscale": [
             [
              0,
              "#0d0887"
             ],
             [
              0.1111111111111111,
              "#46039f"
             ],
             [
              0.2222222222222222,
              "#7201a8"
             ],
             [
              0.3333333333333333,
              "#9c179e"
             ],
             [
              0.4444444444444444,
              "#bd3786"
             ],
             [
              0.5555555555555556,
              "#d8576b"
             ],
             [
              0.6666666666666666,
              "#ed7953"
             ],
             [
              0.7777777777777778,
              "#fb9f3a"
             ],
             [
              0.8888888888888888,
              "#fdca26"
             ],
             [
              1,
              "#f0f921"
             ]
            ],
            "type": "histogram2d"
           }
          ],
          "histogram2dcontour": [
           {
            "colorbar": {
             "outlinewidth": 0,
             "ticks": ""
            },
            "colorscale": [
             [
              0,
              "#0d0887"
             ],
             [
              0.1111111111111111,
              "#46039f"
             ],
             [
              0.2222222222222222,
              "#7201a8"
             ],
             [
              0.3333333333333333,
              "#9c179e"
             ],
             [
              0.4444444444444444,
              "#bd3786"
             ],
             [
              0.5555555555555556,
              "#d8576b"
             ],
             [
              0.6666666666666666,
              "#ed7953"
             ],
             [
              0.7777777777777778,
              "#fb9f3a"
             ],
             [
              0.8888888888888888,
              "#fdca26"
             ],
             [
              1,
              "#f0f921"
             ]
            ],
            "type": "histogram2dcontour"
           }
          ],
          "mesh3d": [
           {
            "colorbar": {
             "outlinewidth": 0,
             "ticks": ""
            },
            "type": "mesh3d"
           }
          ],
          "parcoords": [
           {
            "line": {
             "colorbar": {
              "outlinewidth": 0,
              "ticks": ""
             }
            },
            "type": "parcoords"
           }
          ],
          "pie": [
           {
            "automargin": true,
            "type": "pie"
           }
          ],
          "scatter": [
           {
            "marker": {
             "colorbar": {
              "outlinewidth": 0,
              "ticks": ""
             }
            },
            "type": "scatter"
           }
          ],
          "scatter3d": [
           {
            "line": {
             "colorbar": {
              "outlinewidth": 0,
              "ticks": ""
             }
            },
            "marker": {
             "colorbar": {
              "outlinewidth": 0,
              "ticks": ""
             }
            },
            "type": "scatter3d"
           }
          ],
          "scattercarpet": [
           {
            "marker": {
             "colorbar": {
              "outlinewidth": 0,
              "ticks": ""
             }
            },
            "type": "scattercarpet"
           }
          ],
          "scattergeo": [
           {
            "marker": {
             "colorbar": {
              "outlinewidth": 0,
              "ticks": ""
             }
            },
            "type": "scattergeo"
           }
          ],
          "scattergl": [
           {
            "marker": {
             "colorbar": {
              "outlinewidth": 0,
              "ticks": ""
             }
            },
            "type": "scattergl"
           }
          ],
          "scattermapbox": [
           {
            "marker": {
             "colorbar": {
              "outlinewidth": 0,
              "ticks": ""
             }
            },
            "type": "scattermapbox"
           }
          ],
          "scatterpolar": [
           {
            "marker": {
             "colorbar": {
              "outlinewidth": 0,
              "ticks": ""
             }
            },
            "type": "scatterpolar"
           }
          ],
          "scatterpolargl": [
           {
            "marker": {
             "colorbar": {
              "outlinewidth": 0,
              "ticks": ""
             }
            },
            "type": "scatterpolargl"
           }
          ],
          "scatterternary": [
           {
            "marker": {
             "colorbar": {
              "outlinewidth": 0,
              "ticks": ""
             }
            },
            "type": "scatterternary"
           }
          ],
          "surface": [
           {
            "colorbar": {
             "outlinewidth": 0,
             "ticks": ""
            },
            "colorscale": [
             [
              0,
              "#0d0887"
             ],
             [
              0.1111111111111111,
              "#46039f"
             ],
             [
              0.2222222222222222,
              "#7201a8"
             ],
             [
              0.3333333333333333,
              "#9c179e"
             ],
             [
              0.4444444444444444,
              "#bd3786"
             ],
             [
              0.5555555555555556,
              "#d8576b"
             ],
             [
              0.6666666666666666,
              "#ed7953"
             ],
             [
              0.7777777777777778,
              "#fb9f3a"
             ],
             [
              0.8888888888888888,
              "#fdca26"
             ],
             [
              1,
              "#f0f921"
             ]
            ],
            "type": "surface"
           }
          ],
          "table": [
           {
            "cells": {
             "fill": {
              "color": "#EBF0F8"
             },
             "line": {
              "color": "white"
             }
            },
            "header": {
             "fill": {
              "color": "#C8D4E3"
             },
             "line": {
              "color": "white"
             }
            },
            "type": "table"
           }
          ]
         },
         "layout": {
          "annotationdefaults": {
           "arrowcolor": "#2a3f5f",
           "arrowhead": 0,
           "arrowwidth": 1
          },
          "autotypenumbers": "strict",
          "coloraxis": {
           "colorbar": {
            "outlinewidth": 0,
            "ticks": ""
           }
          },
          "colorscale": {
           "diverging": [
            [
             0,
             "#8e0152"
            ],
            [
             0.1,
             "#c51b7d"
            ],
            [
             0.2,
             "#de77ae"
            ],
            [
             0.3,
             "#f1b6da"
            ],
            [
             0.4,
             "#fde0ef"
            ],
            [
             0.5,
             "#f7f7f7"
            ],
            [
             0.6,
             "#e6f5d0"
            ],
            [
             0.7,
             "#b8e186"
            ],
            [
             0.8,
             "#7fbc41"
            ],
            [
             0.9,
             "#4d9221"
            ],
            [
             1,
             "#276419"
            ]
           ],
           "sequential": [
            [
             0,
             "#0d0887"
            ],
            [
             0.1111111111111111,
             "#46039f"
            ],
            [
             0.2222222222222222,
             "#7201a8"
            ],
            [
             0.3333333333333333,
             "#9c179e"
            ],
            [
             0.4444444444444444,
             "#bd3786"
            ],
            [
             0.5555555555555556,
             "#d8576b"
            ],
            [
             0.6666666666666666,
             "#ed7953"
            ],
            [
             0.7777777777777778,
             "#fb9f3a"
            ],
            [
             0.8888888888888888,
             "#fdca26"
            ],
            [
             1,
             "#f0f921"
            ]
           ],
           "sequentialminus": [
            [
             0,
             "#0d0887"
            ],
            [
             0.1111111111111111,
             "#46039f"
            ],
            [
             0.2222222222222222,
             "#7201a8"
            ],
            [
             0.3333333333333333,
             "#9c179e"
            ],
            [
             0.4444444444444444,
             "#bd3786"
            ],
            [
             0.5555555555555556,
             "#d8576b"
            ],
            [
             0.6666666666666666,
             "#ed7953"
            ],
            [
             0.7777777777777778,
             "#fb9f3a"
            ],
            [
             0.8888888888888888,
             "#fdca26"
            ],
            [
             1,
             "#f0f921"
            ]
           ]
          },
          "colorway": [
           "#636efa",
           "#EF553B",
           "#00cc96",
           "#ab63fa",
           "#FFA15A",
           "#19d3f3",
           "#FF6692",
           "#B6E880",
           "#FF97FF",
           "#FECB52"
          ],
          "font": {
           "color": "#2a3f5f"
          },
          "geo": {
           "bgcolor": "white",
           "lakecolor": "white",
           "landcolor": "white",
           "showlakes": true,
           "showland": true,
           "subunitcolor": "#C8D4E3"
          },
          "hoverlabel": {
           "align": "left"
          },
          "hovermode": "closest",
          "mapbox": {
           "style": "light"
          },
          "paper_bgcolor": "white",
          "plot_bgcolor": "white",
          "polar": {
           "angularaxis": {
            "gridcolor": "#EBF0F8",
            "linecolor": "#EBF0F8",
            "ticks": ""
           },
           "bgcolor": "white",
           "radialaxis": {
            "gridcolor": "#EBF0F8",
            "linecolor": "#EBF0F8",
            "ticks": ""
           }
          },
          "scene": {
           "xaxis": {
            "backgroundcolor": "white",
            "gridcolor": "#DFE8F3",
            "gridwidth": 2,
            "linecolor": "#EBF0F8",
            "showbackground": true,
            "ticks": "",
            "zerolinecolor": "#EBF0F8"
           },
           "yaxis": {
            "backgroundcolor": "white",
            "gridcolor": "#DFE8F3",
            "gridwidth": 2,
            "linecolor": "#EBF0F8",
            "showbackground": true,
            "ticks": "",
            "zerolinecolor": "#EBF0F8"
           },
           "zaxis": {
            "backgroundcolor": "white",
            "gridcolor": "#DFE8F3",
            "gridwidth": 2,
            "linecolor": "#EBF0F8",
            "showbackground": true,
            "ticks": "",
            "zerolinecolor": "#EBF0F8"
           }
          },
          "shapedefaults": {
           "line": {
            "color": "#2a3f5f"
           }
          },
          "ternary": {
           "aaxis": {
            "gridcolor": "#DFE8F3",
            "linecolor": "#A2B1C6",
            "ticks": ""
           },
           "baxis": {
            "gridcolor": "#DFE8F3",
            "linecolor": "#A2B1C6",
            "ticks": ""
           },
           "bgcolor": "white",
           "caxis": {
            "gridcolor": "#DFE8F3",
            "linecolor": "#A2B1C6",
            "ticks": ""
           }
          },
          "title": {
           "x": 0.05
          },
          "xaxis": {
           "automargin": true,
           "gridcolor": "#EBF0F8",
           "linecolor": "#EBF0F8",
           "ticks": "",
           "title": {
            "standoff": 15
           },
           "zerolinecolor": "#EBF0F8",
           "zerolinewidth": 2
          },
          "yaxis": {
           "automargin": true,
           "gridcolor": "#EBF0F8",
           "linecolor": "#EBF0F8",
           "ticks": "",
           "title": {
            "standoff": 15
           },
           "zerolinecolor": "#EBF0F8",
           "zerolinewidth": 2
          }
         }
        },
        "title": {
         "text": "<b> Increase <span style=\"color:red\">▲</span> and decrease <span style=\"color:green\">▼</span> in security incidents count categorized by root cause</b>",
         "x": 0.5
        },
        "width": 1200,
        "xaxis": {
         "tickangle": 0
        }
       }
      }
     },
     "metadata": {},
     "output_type": "display_data"
    }
   ],
   "source": [
    "#  FIGURE 1: EOI Chart - OJA\n",
    "ce_categories_center = ['caused by external actors', 'caused by internal technical actors', 'caused by internal non-technical actors']\n",
    "last_month_ce_count = [33, 35, 12]\n",
    "current_month_ce_count = [19, 22, 15]\n",
    "ce_sum = list(((np.array(current_month_ce_count ) + np.array(last_month_ce_count))))\n",
    "delta_ce = list(((np.array(current_month_ce_count) - np.array(last_month_ce_count )) / last_month_ce_count ) * 100)\n",
    "delta_ce = np.round(delta_ce, decimals=1)\n",
    "\n",
    "green_tag = '<span style=\"color:green\">▼</span>'\n",
    "red_tag = '<span style=\"color:red\">▲</span>'\n",
    "ibm_logo_path = os.path.join(os.getcwd(), 'INPUT/sip-logo.png')\n",
    "\n",
    "fig = go.Figure()\n",
    "fig.add_trace(go.Bar(\n",
    "    x=ce_categories_center,\n",
    "    y=last_month_ce_count,\n",
    "    name='SI count on August',\n",
    "    marker_color='rgb(231,198,91)', \n",
    "    marker_line_color='black',\n",
    "    textposition='inside', \n",
    "    text=last_month_ce_count,\n",
    "    marker_line_width=1.5, \n",
    "    opacity=1.0, width=0.5))\n",
    "\n",
    "fig.add_trace(go.Bar(\n",
    "    x=ce_categories_center,\n",
    "    y=current_month_ce_count,\n",
    "    name='SI count in September', \n",
    "    text=current_month_ce_count,\n",
    "    textposition='inside',\n",
    "    marker_color='white', \n",
    "    marker_line_color='black',\n",
    "    marker_line_width=1.5, \n",
    "    opacity=0.6, width=0.6))\n",
    "\n",
    "fig.add_trace(go.Bar(\n",
    "    x=ce_categories_center, \n",
    "    y=max(current_month_ce_count,last_month_ce_count),\n",
    "    text=delta_ce,\n",
    "    textposition='outside',\n",
    "    marker_line_width=1.5, \n",
    "    opacity=0, \n",
    "    width=0.6,\n",
    "    showlegend=False))\n",
    "\n",
    "for i, (x, y, z) in enumerate(zip(current_month_ce_count, last_month_ce_count, delta_ce)):\n",
    "    print(i, x, y, z)\n",
    "    if z > 0:\n",
    "        fig.add_annotation(x=i,y=max(x+1, y+1),text='<b>▲+{}%</b>'.format(z),showarrow=False,font=dict(color='red', size=12),align='center')\n",
    "    else:\n",
    "        fig.add_annotation(x=i,y=max(x+1, y+1),text='<b>▼{}%</b>'.format(z),showarrow=False,font=dict(color='green', size=12),align='center')\n",
    "\n",
    "\n",
    "title_plot1 = '<b> Increase {} and decrease {} in security incidents count categorized by root cause</b>'.format(red_tag, green_tag)\n",
    "\n",
    "fig.layout.images = [dict(\n",
    "    source=ibm_logo_path,\n",
    "    xref='paper', \n",
    "    yref='paper',\n",
    "    x=0.05, \n",
    "    y=1.05,\n",
    "    sizex=0.11, \n",
    "    sizey=0.15,\n",
    "    xanchor='center', \n",
    "    yanchor='bottom')]\n",
    "\n",
    "fig.update_layout(\n",
    "    height=600,\n",
    "    width=1200,\n",
    "    template='plotly_white',\n",
    "    font_family='IBM Plex Sans',\n",
    "    font_size=14,\n",
    "    barmode='overlay', \n",
    "    xaxis_tickangle=0,\n",
    "    title=title_plot1,\n",
    "    title_x=0.5, \n",
    "    font=dict(color='black'),\n",
    "    legend=dict(\n",
    "    orientation='h',\n",
    "    yanchor='top',\n",
    "    y=1.1,\n",
    "    xanchor='center',\n",
    "    x=0.5))\n",
    "    \n",
    "fig.show()\n",
    "fig.write_image('./OUTPUT/EOI.pdf')"
   ]
  },
  {
   "cell_type": "code",
   "execution_count": 205,
   "metadata": {},
   "outputs": [
    {
     "name": "stdout",
     "output_type": "stream",
     "text": [
      "last_month_sum: 10.0\n",
      "current_month_ce_sum: 5.0\n",
      "delta_ce_sum: -18.166666666666668\n"
     ]
    }
   ],
   "source": [
    "last_month_ce_count = [4, 14, 12, 25, 2, 3]\n",
    "current_month_ce_count = [2, 5, 2, 9, 5, 7]\n",
    "# delta_count_ce = last_\n",
    "delta_percentage_ce = list(((np.array(current_month_ce_count) - np.array(last_month_ce_count )) / np.array(last_month_ce_count)) * 100)\n",
    "delta_percentage_ce = np.round(delta_percentage_ce, decimals=1)\n",
    "ce_sum = current_month_ce_count  + last_month_ce_count\n",
    "\n",
    "print('last_month_sum: {}'.format(np.average(last_month_ce_count)))\n",
    "print('current_month_ce_sum: {}'.format(np.average(current_month_ce_count)))\n",
    "print('delta_ce_sum: {}'.format(np.average(delta_ce)))"
   ]
  },
  {
   "cell_type": "code",
   "execution_count": null,
   "metadata": {},
   "outputs": [],
   "source": []
  }
 ],
 "metadata": {
  "interpreter": {
   "hash": "b7e84e37164d630db6af888c080e86d5ed5e13441c4c326ea3282945e0e98877"
  },
  "kernelspec": {
   "display_name": "Python 3.9.7 64-bit ('base': conda)",
   "name": "python3"
  },
  "language_info": {
   "codemirror_mode": {
    "name": "ipython",
    "version": 3
   },
   "file_extension": ".py",
   "mimetype": "text/x-python",
   "name": "python",
   "nbconvert_exporter": "python",
   "pygments_lexer": "ipython3",
   "version": "3.9.7"
  }
 },
 "nbformat": 4,
 "nbformat_minor": 4
}
